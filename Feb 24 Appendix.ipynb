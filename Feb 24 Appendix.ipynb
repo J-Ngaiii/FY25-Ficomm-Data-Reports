{
 "cells": [
  {
   "cell_type": "code",
   "execution_count": null,
   "metadata": {},
   "outputs": [],
   "source": [
    "import pandas as pd\n",
    "import numpy as np\n",
    "import matplotlib.pyplot as plt\n",
    "import seaborn as sns\n",
    "import plotly.express as px"
   ]
  },
  {
   "cell_type": "markdown",
   "metadata": {},
   "source": [
    "# Contingency Timings Appendix (Feb 24, 2025) "
   ]
  },
  {
   "cell_type": "markdown",
   "metadata": {},
   "source": [
    "<h2 style=\"height: 8px; background-color: #003262; width: 95%;\"></h2>\n",
    "<h2 style=\"height: 4px; background-color: #FDB515; width: 90%; margin-bottom: 0px;\"></h2>"
   ]
  },
  {
   "cell_type": "markdown",
   "metadata": {},
   "source": [
    "<div style=\"text-align: center;\">\n",
    "  <img src = \"Art/ASUC_Senator_Ngai_Artboard 3.png\" style=\"width:700px;height:700px\">\n",
    "</div>"
   ]
  },
  {
   "cell_type": "markdown",
   "metadata": {},
   "source": [
    "## Section 0: Cleaning Functions"
   ]
  },
  {
   "cell_type": "code",
   "execution_count": 2,
   "metadata": {},
   "outputs": [],
   "source": [
    "_valid_iterables = (list, tuple, pd.Series, np.ndarray, pd.Index)\n",
    "\n",
    "def get_valid_iter():\n",
    "    return _valid_iterables\n",
    "\n",
    "def _is_type(inpt, t):\n",
    "    # private function\n",
    "    \"\"\"\n",
    "    Private helper function to check if an input is of a specified type or, if iterable, \n",
    "    whether all elements belong to at least one specified type.\n",
    "\n",
    "    Args:\n",
    "        inpt: The input value or iterable of values to be checked.\n",
    "        t: A single type or an iterable of types to validate against.\n",
    "\n",
    "    Returns:\n",
    "        bool: True if `inpt` matches at least one of the specified types, \n",
    "              or if `inpt` is an iterable and all its elements match at least one type in `t`. \n",
    "              False otherwise.\n",
    "    \"\"\"\n",
    "    def _is_type_helper(inpt, t):\n",
    "        \"\"\"\n",
    "        Checks if the input is of a specified type `t` or, if an iterable, \n",
    "        whether all elements in `inpt` are of type `t`.\n",
    "        \"\"\"\n",
    "        if isinstance(inpt, get_valid_iter()) and len(inpt) == 0:\n",
    "            raise ValueError(\"Input iterable to check types of is an empty iterable.\")\n",
    "        return isinstance(inpt, t) or (isinstance(inpt, get_valid_iter()) and all(isinstance(x, t) for x in inpt))\n",
    "    \n",
    "    if isinstance(t, get_valid_iter()):\n",
    "        if len(t) == 0:\n",
    "            raise ValueError(\"Type input 't' is an empty iterable.\")\n",
    "        return any(_is_type_helper(inpt, type) for type in t) #was previously all\n",
    "    else:\n",
    "        return _is_type_helper(inpt, t)\n",
    "    \n",
    "def is_type(inpt, t):\n",
    "    \"\"\"\n",
    "    Public function to check if an input is of a specified type or, if iterable, \n",
    "    whether all elements belong to at least one specified type.\n",
    "\n",
    "    Args:\n",
    "        inpt: The input value or iterable of values to be checked.\n",
    "        t: A single type or an iterable containing multiple types to validate against.\n",
    "\n",
    "    Returns:\n",
    "        bool: \n",
    "            - True if `inpt` is of type `t`.\n",
    "            - True if `inpt` is an iterable and all its elements match at least one type in `t`.\n",
    "            - False otherwise.\n",
    "\n",
    "    Examples:\n",
    "        >>> is_type(5, int)\n",
    "        True\n",
    "        \n",
    "        >>> is_type([1, 2, 3], int)\n",
    "        True\n",
    "        \n",
    "        >>> is_type([\"hello\", 3], (int, str))\n",
    "        True\n",
    "        \n",
    "        >>> is_type([\"hello\", 3], int)\n",
    "        False\n",
    "    \"\"\"\n",
    "    \n",
    "    return _is_type(inpt, t)\n",
    "    \n",
    "def _in_df(inpt, df):\n",
    "    #private function\n",
    "    \"\"\"\n",
    "    Private function to check if a given input (column label or index) exists in a DataFrame.\n",
    "\n",
    "    Args:\n",
    "        inpt: A string (column label), an integer (column index), or an iterable (tuple, list, or pd.Series) of strings or integers.\n",
    "        df (pd.DataFrame): The DataFrame to check against.\n",
    "\n",
    "    Returns:\n",
    "        bool: \n",
    "            - True if `inpt` is a column label in `df` (if `inpt` is a string).\n",
    "            - True if `inpt` is a valid column index in `df` (if `inpt` is an integer and non-negative).\n",
    "            - True if all elements in `inpt` exist as column labels in `df` (if `inpt` is an iterable of strings).\n",
    "            - True if all elements in `inpt` are valid column indices in `df` (if `inpt` is an iterable of non-negative integers).\n",
    "            - False otherwise.\n",
    "\n",
    "    Raises:\n",
    "        AssertionError: If `inpt` is not a string, integer, or an iterable of strings/integers.\n",
    "        AssertionError: If `inpt` is a negative integer.\n",
    "    \"\"\"\n",
    "    assert is_type(inpt, (str, int)), 'inpt must be string, int or tuple, list or pd.Series of strings or ints.'\n",
    "    if isinstance(inpt, str): \n",
    "        return inpt in df.columns\n",
    "    elif isinstance(inpt, int):\n",
    "        assert inpt >= 0, 'integer inpt values must be non-negative.'\n",
    "        return inpt < len(df.columns)\n",
    "    elif isinstance(inpt[0], str):\n",
    "        return pd.Series(inpt).isin(df.columns).all()\n",
    "    elif isinstance(inpt[0], int):\n",
    "        return all(pd.Series(inpt) < len(df.columns))\n",
    "\n",
    "\n",
    "def in_df(inpt, df):\n",
    "    \"\"\"\n",
    "    Public function to check if a given input (column label or index) exists in a DataFrame.\n",
    "\n",
    "    This function wraps `_in_df()`.\n",
    "\n",
    "    Args:\n",
    "        inpt: A string (column label), an integer (column index), or an iterable (tuple, list, or pd.Series) of strings or integers.\n",
    "        df (pd.DataFrame): The DataFrame to check against.\n",
    "\n",
    "    Returns:\n",
    "        bool: True if `inpt` exists in the DataFrame as a column label or index, False otherwise.\n",
    "\n",
    "    Examples:\n",
    "        >>> in_df(\"ColumnA\", df)\n",
    "        True\n",
    "        \n",
    "        >>> in_df([0, 2, 4], df)\n",
    "        True\n",
    "    \"\"\"\n",
    "    return _in_df(inpt, df)\n",
    "    \n",
    "def _any_in_df(inpt, df):\n",
    "    #private function\n",
    "    \"\"\"\n",
    "    Private function to check if at least one column in an iterable exists in a DataFrame.\n",
    "\n",
    "    This function does not handle integers because DataFrame shape can be used to check if an index exists.\n",
    "\n",
    "    Args:\n",
    "        inpt: A string (column label) or an iterable (tuple, list, or pd.Series) of strings.\n",
    "        df (pd.DataFrame): The DataFrame to check against.\n",
    "\n",
    "    Returns:\n",
    "        bool: \n",
    "            - True if `inpt` is a column label in `df` (if `inpt` is a string).\n",
    "            - True if at least one element in `inpt` exists as a column label in `df` (if `inpt` is an iterable of strings).\n",
    "            - False otherwise.\n",
    "\n",
    "    Raises:\n",
    "        AssertionError: If `inpt` is not a string or an iterable of strings.\n",
    "    \"\"\"\n",
    "    assert is_type(inpt, str), 'inpt must be string or tuple, list or pd.Series of strings.'\n",
    "    if isinstance(inpt, str): \n",
    "        return inpt in df.columns\n",
    "    else:\n",
    "        return any(df.columns.isin(inpt))\n",
    "    \n",
    "def any_in_df(inpt, df):\n",
    "    \"\"\"\n",
    "    Public function to check if at least one column in an iterable exists in a DataFrame.\n",
    "\n",
    "    This function wraps `_any_in_df()`.\n",
    "\n",
    "    Args:\n",
    "        inpt: A string (column label) or an iterable (tuple, list, or pd.Series) of strings.\n",
    "        df (pd.DataFrame): The DataFrame to check against.\n",
    "\n",
    "    Returns:\n",
    "        bool: True if at least one element in `inpt` exists in the DataFrame as a column label, False otherwise.\n",
    "\n",
    "    Examples:\n",
    "        >>> any_in_df(\"ColumnA\", df)\n",
    "        True\n",
    "        \n",
    "        >>> any_in_df([\"ColumnA\", \"NonexistentColumn\"], df)\n",
    "        True\n",
    "    \"\"\"\n",
    "    return _any_in_df(inpt, df)\n",
    "    \n",
    "def _concatonater(input_df, base_df, sort_cols=None):\n",
    "    #private\n",
    "    output = pd.concat([input_df, base_df])\n",
    "    if sort_cols is not None:\n",
    "        assert is_type(sort_cols, str), 'sort_cols must be string or a list of strings'\n",
    "        assert in_df(list(sort_cols), base_df) or in_df(list(sort_cols), input_df), 'Column/some columns in sort_cols not in input_df or base_df.'\n",
    "        \n",
    "        output = output.sort_values(by=sort_cols, ascending=False)\n",
    "    \n",
    "    return output\n",
    "\n",
    "def concatonater(input_df, base_df, sort_cols=None):\n",
    "    return _concatonater(input_df, base_df, sort_cols)\n",
    "\n",
    "def _academic_year_parser(inpt):\n",
    "    #private\n",
    "    def _academic_year_helper(timestamp):\n",
    "        \"\"\"Takes timestamp and returns academic year\"\"\"\n",
    "        if timestamp.month > 7:\n",
    "            return str(timestamp.year) + \"-\" + str(timestamp.year + 1)\n",
    "        elif timestamp.month < 6:\n",
    "            return str(timestamp.year - 1) + \"-\" + str(timestamp.year)\n",
    "        else:\n",
    "            raise ValueError(\"The input timestamp occurs in June or July, which are typically not part of a standard academic year.\")\n",
    "        \n",
    "    def _validate_and_parse(data):\n",
    "        \"\"\"Validates and parses collections of timestamps.\"\"\"\n",
    "        try:\n",
    "            timestamps = pd.Series(data).apply(pd.Timestamp)\n",
    "        except Exception:\n",
    "            raise ValueError(\"At least one input could not be converted to a valid timestamp.\")\n",
    "        if not timestamps.apply(lambda x: hasattr(x, \"month\") and hasattr(x, \"year\")).all():\n",
    "            raise ValueError(\"At least one timestamp does not include both month and year attributes.\")\n",
    "        return timestamps.apply(_academic_year_helper)\n",
    "        \n",
    "    if isinstance(inpt, pd.Timestamp):\n",
    "        return _academic_year_helper(inpt)\n",
    "    elif isinstance(inpt, str):\n",
    "        try:\n",
    "            inpt = pd.Timestamp(inpt)\n",
    "        except Exception as e:\n",
    "            raise ValueError('inpt could not be converted to valid timestamp')\n",
    "        if hasattr(inpt, \"month\") and hasattr(inpt, \"year\"):\n",
    "            return _academic_year_helper(inpt)\n",
    "        else:\n",
    "            raise ValueError(\"The timestamp must include both month and year attributes.\")\n",
    "    elif isinstance(inpt, get_valid_iter()):\n",
    "        return _validate_and_parse(inpt)\n",
    "    else:\n",
    "        raise ValueError(\"Input must be a string, pd.Timestamp, or a list, tuple, or pd.Series containing strings or pd.Timestamps.\")\n",
    "    \n",
    "def academic_year_parser(inpt):\n",
    "    \"\"\"Takes in a date and returns which academic year it's a part of.\"\"\"\n",
    "    return _academic_year_parser(inpt)\n",
    "\n",
    "def _reverse_academic_year_parser(inpt, year_start_end):\n",
    "    assert is_type(inpt, str), 'Input must be a string or list of strings specifying academic year'\n",
    "\n",
    "    def _acayear_instance_processor(inpt, year_start_end):\n",
    "        if '-' in inpt:\n",
    "            years = inpt.split('-')\n",
    "            start = pd.Timestamp(f\"{years[0]}-{year_start_end[0][0]}-{year_start_end[0][1]}\")\n",
    "            end = pd.Timestamp(f\"{years[1]}-{year_start_end[1][0]}-{year_start_end[1][1]}\")\n",
    "        elif 'fy' in inpt.lower():\n",
    "            end_year = f\"20{inpt[2:]}\"\n",
    "            start_year = str(int(end_year) - 1)\n",
    "            start = pd.Timestamp(f\"{start_year}-{year_start_end[0][0]}-{year_start_end[0][1]}\")\n",
    "            end = pd.Timestamp(f\"{end_year}-{year_start_end[1][0]}-{year_start_end[1][1]}\")\n",
    "        else:\n",
    "            raise ValueError('Inputted academic year belongs to unkown format.')\n",
    "        return (start, end)\n",
    "    if isinstance(inpt, str):\n",
    "        return _acayear_instance_processor(inpt, year_start_end)\n",
    "    elif isinstance(inpt, get_valid_iter()):\n",
    "        return list(_reverse_academic_year_parser(np.array(inpt)))\n",
    "    else: \n",
    "        raise ValueError(\"Input must be a string, or a list os strings indicating academic year in a known format.\")\n",
    "\n",
    "def reverse_academic_year_parser(inpt, year_start_end=((8, 15), (5, 20))):\n",
    "    \"\"\"Takes in a academic year and returns a tuple indicating date range that pertains to said academic year.\n",
    "    If there are multiple academic years, returns as a list of 2d tuples.\n",
    "\n",
    "    year_start_end: requires you to specify the month and date of the start of the academic year and end of \n",
    "    the academic year in a nested tuple format ((start_month, start_day), (end_month, end_day))\n",
    "    \n",
    "    Handles following formats:\n",
    "    - year-year (eg. 2023-2024)\n",
    "    - FY## (eg. FY24 corrsponding to 2023-2024)\"\"\"\n",
    "    return _reverse_academic_year_parser(inpt, year_start_end)"
   ]
  },
  {
   "cell_type": "code",
   "execution_count": 3,
   "metadata": {},
   "outputs": [],
   "source": [
    "def sucont_cleaner(df, year):\n",
    "    \"\"\"Version 1.0: Just handles cleaning for years\"\"\"\n",
    "    assert ('Date' in df.columns) and is_type(df['Date'], pd.Timestamp), 'df must have \"Date\" column that contains only pd.Timestamp objects'\n",
    "    \n",
    "    copy = df.copy()\n",
    "    year_range = reverse_academic_year_parser(year)\n",
    "    mask = (copy['Date'] >= year_range[0]) & (copy['Date'] <= year_range[1])\n",
    "    return pd.DataFrame(copy[mask]).reset_index()"
   ]
  },
  {
   "cell_type": "markdown",
   "metadata": {},
   "source": [
    "<h2 style=\"height: 6px; background-color: #003262; width: 95%;\"></h2>\n",
    "<h2 style=\"height: 2px; background-color: #FDB515; width: 90%; margin-bottom: 0px;\"></h2>"
   ]
  },
  {
   "cell_type": "markdown",
   "metadata": {},
   "source": [
    "## Section 1: Loading Data"
   ]
  },
  {
   "cell_type": "code",
   "execution_count": 4,
   "metadata": {},
   "outputs": [],
   "source": [
    "SUContingency = pd.read_csv('Cleaned Datasets/SUContingency Master.csv', parse_dates=['Date'])"
   ]
  },
  {
   "cell_type": "code",
   "execution_count": 5,
   "metadata": {},
   "outputs": [],
   "source": [
    "cont_df1 = SUContingency[SUContingency['Date'].dt.year == 2024]\n",
    "cont_df2 = SUContingency[(SUContingency['Date'].dt.year == 2023) & (SUContingency['Date'].dt.month > 7)]\n",
    "Contingency_2324 = pd.concat([cont_df2, cont_df1, ])\n",
    "\n",
    "raw_cop = Contingency_2324.copy()\n",
    "\n",
    "Contingency_2324['Recipient'] = Contingency_2324['Memo'].str.extract(r'[FR|SR]\\s\\d{2}\\/\\d{2}[-\\s](?:[F|S]\\d{2}\\s-\\s|\\d+\\s)(.+)') #isolating recipient from `memo` column\n",
    "\n",
    "#changing the way senate offices and EVP are referred to for consistency \n",
    "Contingency_2324['Recipient'] = Contingency_2324['Recipient'].apply(lambda x: 'ASUC ' + x if (type(x) is str) and ('Office of Senator' in x) else x) #make sure type check goes first or else function tries to check membership against NaN values which are floats\n",
    "Contingency_2324['Recipient'] = Contingency_2324['Recipient'].apply(lambda x: 'ASUC - Office of the Executive Vice President' if (type(x) is str) and (x == 'ASUC EVP') else x) \n",
    "Contingency_2324_initial = Contingency_2324.reset_index()"
   ]
  },
  {
   "cell_type": "code",
   "execution_count": 6,
   "metadata": {},
   "outputs": [
    {
     "name": "stdout",
     "output_type": "stream",
     "text": [
      "Amounts column matches: True\n",
      "Balance column matches: True\n",
      "Date column matches: True\n",
      "Memo column matches: True\n"
     ]
    }
   ],
   "source": [
    "#checks\n",
    "print(f\"Amounts column matches: {all(sucont_cleaner(SUContingency, 'FY24')['Amount'] == Contingency_2324_initial['Amount'])}\")\n",
    "print(f\"Balance column matches: {all(sucont_cleaner(SUContingency, 'FY24')['Available Balance After'] == Contingency_2324_initial['Available Balance After'])}\")\n",
    "print(f\"Date column matches: {all(sucont_cleaner(SUContingency, 'FY24')['Date'] == Contingency_2324_initial['Date'])}\")\n",
    "print(f\"Memo column matches: {all(sucont_cleaner(SUContingency, 'FY24')['Memo'] == Contingency_2324_initial['Memo'])}\")\n"
   ]
  },
  {
   "cell_type": "code",
   "execution_count": 7,
   "metadata": {},
   "outputs": [],
   "source": [
    "Non_Admin_Contin = SUContingency[SUContingency['Admin'] == 0]"
   ]
  },
  {
   "cell_type": "code",
   "execution_count": 8,
   "metadata": {},
   "outputs": [],
   "source": [
    "Non_Admin_Contin2324 = sucont_cleaner(Non_Admin_Contin, 'FY24')"
   ]
  },
  {
   "cell_type": "code",
   "execution_count": 9,
   "metadata": {},
   "outputs": [],
   "source": [
    "Contingency_2324 = sucont_cleaner(SUContingency, 'FY24')"
   ]
  },
  {
   "cell_type": "code",
   "execution_count": 10,
   "metadata": {},
   "outputs": [
    {
     "data": {
      "text/html": [
       "<div>\n",
       "<style scoped>\n",
       "    .dataframe tbody tr th:only-of-type {\n",
       "        vertical-align: middle;\n",
       "    }\n",
       "\n",
       "    .dataframe tbody tr th {\n",
       "        vertical-align: top;\n",
       "    }\n",
       "\n",
       "    .dataframe thead th {\n",
       "        text-align: right;\n",
       "    }\n",
       "</style>\n",
       "<table border=\"1\" class=\"dataframe\">\n",
       "  <thead>\n",
       "    <tr style=\"text-align: right;\">\n",
       "      <th></th>\n",
       "      <th>index</th>\n",
       "      <th>Account Name</th>\n",
       "      <th>Account Description</th>\n",
       "      <th>Transaction Reference #</th>\n",
       "      <th>Date</th>\n",
       "      <th>Reconciled</th>\n",
       "      <th>Created By</th>\n",
       "      <th>Payee/Source First Name</th>\n",
       "      <th>Payee/Source Last Name</th>\n",
       "      <th>Originator Account Name</th>\n",
       "      <th>...</th>\n",
       "      <th>From Request - Payee ZIP</th>\n",
       "      <th>Memo</th>\n",
       "      <th>Category</th>\n",
       "      <th>Type</th>\n",
       "      <th>Transaction Method</th>\n",
       "      <th>Amount</th>\n",
       "      <th>Ending Balance After</th>\n",
       "      <th>Available Balance After</th>\n",
       "      <th>Admin</th>\n",
       "      <th>Recipient</th>\n",
       "    </tr>\n",
       "  </thead>\n",
       "  <tbody>\n",
       "    <tr>\n",
       "      <th>0</th>\n",
       "      <td>441</td>\n",
       "      <td>3-40-100220-00000-ASUCFunds-SCF</td>\n",
       "      <td>ASUC/GA Student Fee Funding</td>\n",
       "      <td>1837928</td>\n",
       "      <td>2023-09-21</td>\n",
       "      <td>Yes</td>\n",
       "      <td>Henry F Isselbacher</td>\n",
       "      <td>Transfer from '3-40-100220-00000-ASUCFunds-SCF...</td>\n",
       "      <td>NaN</td>\n",
       "      <td>3-40-100220-00000-ASUCFunds-SCF</td>\n",
       "      <td>...</td>\n",
       "      <td>NaN</td>\n",
       "      <td>FR 23/24 F05 - Azaad</td>\n",
       "      <td>Transfer between Accounts</td>\n",
       "      <td>NaN</td>\n",
       "      <td>Payment</td>\n",
       "      <td>1500.0</td>\n",
       "      <td>0.0</td>\n",
       "      <td>98500.0</td>\n",
       "      <td>0</td>\n",
       "      <td>Azaad</td>\n",
       "    </tr>\n",
       "    <tr>\n",
       "      <th>1</th>\n",
       "      <td>442</td>\n",
       "      <td>3-40-100220-00000-ASUCFunds-SCF</td>\n",
       "      <td>ASUC/GA Student Fee Funding</td>\n",
       "      <td>1837929</td>\n",
       "      <td>2023-09-21</td>\n",
       "      <td>Yes</td>\n",
       "      <td>Henry F Isselbacher</td>\n",
       "      <td>Transfer from '3-40-100220-00000-ASUCFunds-SCF...</td>\n",
       "      <td>NaN</td>\n",
       "      <td>3-40-100220-00000-ASUCFunds-SCF</td>\n",
       "      <td>...</td>\n",
       "      <td>NaN</td>\n",
       "      <td>FR 23/24 F05 - Pi Sigma Epsilon</td>\n",
       "      <td>Transfer between Accounts</td>\n",
       "      <td>NaN</td>\n",
       "      <td>Payment</td>\n",
       "      <td>600.0</td>\n",
       "      <td>0.0</td>\n",
       "      <td>97900.0</td>\n",
       "      <td>0</td>\n",
       "      <td>Pi Sigma Epsilon</td>\n",
       "    </tr>\n",
       "    <tr>\n",
       "      <th>2</th>\n",
       "      <td>443</td>\n",
       "      <td>3-40-100220-00000-ASUCFunds-SCF</td>\n",
       "      <td>ASUC/GA Student Fee Funding</td>\n",
       "      <td>1838276</td>\n",
       "      <td>2023-09-28</td>\n",
       "      <td>Yes</td>\n",
       "      <td>Henry F Isselbacher</td>\n",
       "      <td>Transfer from '3-40-100220-00000-ASUCFunds-SCF...</td>\n",
       "      <td>NaN</td>\n",
       "      <td>3-40-100220-00000-ASUCFunds-SCF</td>\n",
       "      <td>...</td>\n",
       "      <td>NaN</td>\n",
       "      <td>FR 23/24 F05 - Office of Senator Helena Wu</td>\n",
       "      <td>Transfer between Accounts</td>\n",
       "      <td>NaN</td>\n",
       "      <td>Payment</td>\n",
       "      <td>284.8</td>\n",
       "      <td>0.0</td>\n",
       "      <td>97615.2</td>\n",
       "      <td>0</td>\n",
       "      <td>ASUC Office of Senator Helena Wu</td>\n",
       "    </tr>\n",
       "    <tr>\n",
       "      <th>3</th>\n",
       "      <td>444</td>\n",
       "      <td>3-40-100220-00000-ASUCFunds-SCF</td>\n",
       "      <td>ASUC/GA Student Fee Funding</td>\n",
       "      <td>1838277</td>\n",
       "      <td>2023-09-28</td>\n",
       "      <td>Yes</td>\n",
       "      <td>Henry F Isselbacher</td>\n",
       "      <td>Transfer from '3-40-100220-00000-ASUCFunds-SCF...</td>\n",
       "      <td>NaN</td>\n",
       "      <td>3-40-100220-00000-ASUCFunds-SCF</td>\n",
       "      <td>...</td>\n",
       "      <td>NaN</td>\n",
       "      <td>FR 23/24 F05 - Office of Senator Andy Liu</td>\n",
       "      <td>Transfer between Accounts</td>\n",
       "      <td>NaN</td>\n",
       "      <td>Payment</td>\n",
       "      <td>390.0</td>\n",
       "      <td>0.0</td>\n",
       "      <td>97225.2</td>\n",
       "      <td>0</td>\n",
       "      <td>ASUC Office of Senator Andy Liu</td>\n",
       "    </tr>\n",
       "    <tr>\n",
       "      <th>4</th>\n",
       "      <td>445</td>\n",
       "      <td>3-40-100220-00000-ASUCFunds-SCF</td>\n",
       "      <td>ASUC/GA Student Fee Funding</td>\n",
       "      <td>1838400</td>\n",
       "      <td>2023-09-29</td>\n",
       "      <td>Yes</td>\n",
       "      <td>Robert Jittrikawiphol</td>\n",
       "      <td>Transfer from '3-40-100220-00000-ASUCFunds-SCF...</td>\n",
       "      <td>NaN</td>\n",
       "      <td>3-40-100220-00000-ASUCFunds-SCF</td>\n",
       "      <td>...</td>\n",
       "      <td>NaN</td>\n",
       "      <td>FR 23/24 Fall Week 6 Senate Contingency Alloca...</td>\n",
       "      <td>Transfer between Accounts</td>\n",
       "      <td>NaN</td>\n",
       "      <td>Payment</td>\n",
       "      <td>284.8</td>\n",
       "      <td>0.0</td>\n",
       "      <td>96940.4</td>\n",
       "      <td>0</td>\n",
       "      <td>NaN</td>\n",
       "    </tr>\n",
       "  </tbody>\n",
       "</table>\n",
       "<p>5 rows × 29 columns</p>\n",
       "</div>"
      ],
      "text/plain": [
       "   index                     Account Name          Account Description  \\\n",
       "0    441  3-40-100220-00000-ASUCFunds-SCF  ASUC/GA Student Fee Funding   \n",
       "1    442  3-40-100220-00000-ASUCFunds-SCF  ASUC/GA Student Fee Funding   \n",
       "2    443  3-40-100220-00000-ASUCFunds-SCF  ASUC/GA Student Fee Funding   \n",
       "3    444  3-40-100220-00000-ASUCFunds-SCF  ASUC/GA Student Fee Funding   \n",
       "4    445  3-40-100220-00000-ASUCFunds-SCF  ASUC/GA Student Fee Funding   \n",
       "\n",
       "   Transaction Reference #       Date Reconciled             Created By  \\\n",
       "0                  1837928 2023-09-21        Yes    Henry F Isselbacher   \n",
       "1                  1837929 2023-09-21        Yes    Henry F Isselbacher   \n",
       "2                  1838276 2023-09-28        Yes    Henry F Isselbacher   \n",
       "3                  1838277 2023-09-28        Yes    Henry F Isselbacher   \n",
       "4                  1838400 2023-09-29        Yes  Robert Jittrikawiphol   \n",
       "\n",
       "                             Payee/Source First Name Payee/Source Last Name  \\\n",
       "0  Transfer from '3-40-100220-00000-ASUCFunds-SCF...                    NaN   \n",
       "1  Transfer from '3-40-100220-00000-ASUCFunds-SCF...                    NaN   \n",
       "2  Transfer from '3-40-100220-00000-ASUCFunds-SCF...                    NaN   \n",
       "3  Transfer from '3-40-100220-00000-ASUCFunds-SCF...                    NaN   \n",
       "4  Transfer from '3-40-100220-00000-ASUCFunds-SCF...                    NaN   \n",
       "\n",
       "           Originator Account Name  ... From Request - Payee ZIP  \\\n",
       "0  3-40-100220-00000-ASUCFunds-SCF  ...                      NaN   \n",
       "1  3-40-100220-00000-ASUCFunds-SCF  ...                      NaN   \n",
       "2  3-40-100220-00000-ASUCFunds-SCF  ...                      NaN   \n",
       "3  3-40-100220-00000-ASUCFunds-SCF  ...                      NaN   \n",
       "4  3-40-100220-00000-ASUCFunds-SCF  ...                      NaN   \n",
       "\n",
       "                                                Memo  \\\n",
       "0                               FR 23/24 F05 - Azaad   \n",
       "1                    FR 23/24 F05 - Pi Sigma Epsilon   \n",
       "2         FR 23/24 F05 - Office of Senator Helena Wu   \n",
       "3          FR 23/24 F05 - Office of Senator Andy Liu   \n",
       "4  FR 23/24 Fall Week 6 Senate Contingency Alloca...   \n",
       "\n",
       "                    Category Type Transaction Method  Amount  \\\n",
       "0  Transfer between Accounts  NaN            Payment  1500.0   \n",
       "1  Transfer between Accounts  NaN            Payment   600.0   \n",
       "2  Transfer between Accounts  NaN            Payment   284.8   \n",
       "3  Transfer between Accounts  NaN            Payment   390.0   \n",
       "4  Transfer between Accounts  NaN            Payment   284.8   \n",
       "\n",
       "  Ending Balance After Available Balance After Admin  \\\n",
       "0                  0.0                 98500.0     0   \n",
       "1                  0.0                 97900.0     0   \n",
       "2                  0.0                 97615.2     0   \n",
       "3                  0.0                 97225.2     0   \n",
       "4                  0.0                 96940.4     0   \n",
       "\n",
       "                          Recipient  \n",
       "0                             Azaad  \n",
       "1                  Pi Sigma Epsilon  \n",
       "2  ASUC Office of Senator Helena Wu  \n",
       "3   ASUC Office of Senator Andy Liu  \n",
       "4                               NaN  \n",
       "\n",
       "[5 rows x 29 columns]"
      ]
     },
     "execution_count": 10,
     "metadata": {},
     "output_type": "execute_result"
    }
   ],
   "source": [
    "Contingency_2324.head(5)"
   ]
  },
  {
   "cell_type": "code",
   "execution_count": 11,
   "metadata": {},
   "outputs": [
    {
     "data": {
      "text/html": [
       "<div>\n",
       "<style scoped>\n",
       "    .dataframe tbody tr th:only-of-type {\n",
       "        vertical-align: middle;\n",
       "    }\n",
       "\n",
       "    .dataframe tbody tr th {\n",
       "        vertical-align: top;\n",
       "    }\n",
       "\n",
       "    .dataframe thead th {\n",
       "        text-align: right;\n",
       "    }\n",
       "</style>\n",
       "<table border=\"1\" class=\"dataframe\">\n",
       "  <thead>\n",
       "    <tr style=\"text-align: right;\">\n",
       "      <th></th>\n",
       "      <th>Account Name</th>\n",
       "      <th>Account Description</th>\n",
       "      <th>Transaction Reference #</th>\n",
       "      <th>Date</th>\n",
       "      <th>Reconciled</th>\n",
       "      <th>Created By</th>\n",
       "      <th>Payee/Source First Name</th>\n",
       "      <th>Payee/Source Last Name</th>\n",
       "      <th>Originator Account Name</th>\n",
       "      <th>From Request - Account Name</th>\n",
       "      <th>...</th>\n",
       "      <th>From Request - Payee ZIP</th>\n",
       "      <th>Memo</th>\n",
       "      <th>Category</th>\n",
       "      <th>Type</th>\n",
       "      <th>Transaction Method</th>\n",
       "      <th>Amount</th>\n",
       "      <th>Ending Balance After</th>\n",
       "      <th>Available Balance After</th>\n",
       "      <th>Admin</th>\n",
       "      <th>Recipient</th>\n",
       "    </tr>\n",
       "  </thead>\n",
       "  <tbody>\n",
       "    <tr>\n",
       "      <th>0</th>\n",
       "      <td>3-40-100220-00000-ASUCFunds-SCF</td>\n",
       "      <td>ASUC/GA Student Fee Funding</td>\n",
       "      <td>1705233</td>\n",
       "      <td>2016-08-17</td>\n",
       "      <td>No</td>\n",
       "      <td>NaN</td>\n",
       "      <td>Reversal of Year End 15-16 Balance</td>\n",
       "      <td>NaN</td>\n",
       "      <td>3-40-100220-00000-ASUCFunds-SCF</td>\n",
       "      <td>NaN</td>\n",
       "      <td>...</td>\n",
       "      <td>NaN</td>\n",
       "      <td>Reversal of Year End 15-16 Balance</td>\n",
       "      <td>X-Adjustment (Admin use only)</td>\n",
       "      <td>Direct Deposit ACH/Stripe</td>\n",
       "      <td>Payment</td>\n",
       "      <td>25080.28</td>\n",
       "      <td>0.0</td>\n",
       "      <td>0.0</td>\n",
       "      <td>1</td>\n",
       "      <td>NaN</td>\n",
       "    </tr>\n",
       "    <tr>\n",
       "      <th>1</th>\n",
       "      <td>3-40-100220-00000-ASUCFunds-SCF</td>\n",
       "      <td>ASUC/GA Student Fee Funding</td>\n",
       "      <td>1705287</td>\n",
       "      <td>2016-08-17</td>\n",
       "      <td>No</td>\n",
       "      <td>NaN</td>\n",
       "      <td>FY 16-17 Budget Allocation - Senate Contingenc...</td>\n",
       "      <td>NaN</td>\n",
       "      <td>3-40-100220-00000-ASUCFunds-SCF</td>\n",
       "      <td>NaN</td>\n",
       "      <td>...</td>\n",
       "      <td>NaN</td>\n",
       "      <td>FY 16-17 Budget Allocation - Senate Contingenc...</td>\n",
       "      <td>X-Adjustment (Admin use only)</td>\n",
       "      <td>Direct Deposit ACH/Stripe</td>\n",
       "      <td>Deposit</td>\n",
       "      <td>80000.00</td>\n",
       "      <td>0.0</td>\n",
       "      <td>80000.0</td>\n",
       "      <td>1</td>\n",
       "      <td>NaN</td>\n",
       "    </tr>\n",
       "    <tr>\n",
       "      <th>2</th>\n",
       "      <td>3-40-100220-00000-ASUCFunds-SCF</td>\n",
       "      <td>ASUC/GA Student Fee Funding</td>\n",
       "      <td>1705571</td>\n",
       "      <td>2016-08-24</td>\n",
       "      <td>No</td>\n",
       "      <td>Robert Jittrikawiphol</td>\n",
       "      <td>Transfer from '3-40-203100-00000-ASUCFunds-UAV...</td>\n",
       "      <td>NaN</td>\n",
       "      <td>3-40-203100-00000-ASUCFunds-UAVA-B</td>\n",
       "      <td>NaN</td>\n",
       "      <td>...</td>\n",
       "      <td>NaN</td>\n",
       "      <td>ESC grouped organization , returning funds bac...</td>\n",
       "      <td>X-Adjustment (Admin use only)</td>\n",
       "      <td>NaN</td>\n",
       "      <td>Deposit</td>\n",
       "      <td>400.00</td>\n",
       "      <td>0.0</td>\n",
       "      <td>80400.0</td>\n",
       "      <td>1</td>\n",
       "      <td>NaN</td>\n",
       "    </tr>\n",
       "    <tr>\n",
       "      <th>3</th>\n",
       "      <td>3-40-100220-00000-ASUCFunds-SCF</td>\n",
       "      <td>ASUC/GA Student Fee Funding</td>\n",
       "      <td>1707772</td>\n",
       "      <td>2016-10-06</td>\n",
       "      <td>No</td>\n",
       "      <td>VIRGIL TANG</td>\n",
       "      <td>Sheena</td>\n",
       "      <td>Paul</td>\n",
       "      <td>3-40-100220-00000-ASUCFunds-SCF</td>\n",
       "      <td>3-40-100220-00000-ASUCFunds-SCF</td>\n",
       "      <td>...</td>\n",
       "      <td>94609.0</td>\n",
       "      <td>VT 9/28/2016 CK#122570</td>\n",
       "      <td>Stipend</td>\n",
       "      <td>Check</td>\n",
       "      <td>Payment</td>\n",
       "      <td>200.00</td>\n",
       "      <td>0.0</td>\n",
       "      <td>80200.0</td>\n",
       "      <td>0</td>\n",
       "      <td>NaN</td>\n",
       "    </tr>\n",
       "    <tr>\n",
       "      <th>4</th>\n",
       "      <td>3-40-100220-00000-ASUCFunds-SCF</td>\n",
       "      <td>ASUC/GA Student Fee Funding</td>\n",
       "      <td>1707841</td>\n",
       "      <td>2016-10-06</td>\n",
       "      <td>No</td>\n",
       "      <td>NaN</td>\n",
       "      <td>Robert Jittrikawiphol</td>\n",
       "      <td>NaN</td>\n",
       "      <td>3-40-100220-00000-ASUCFunds-SCF</td>\n",
       "      <td>NaN</td>\n",
       "      <td>...</td>\n",
       "      <td>NaN</td>\n",
       "      <td>October 5, 2016 ASUC Senate Contingency Fund A...</td>\n",
       "      <td>Transfer between Accounts</td>\n",
       "      <td>Internal Allocation/Transaction/Transfer</td>\n",
       "      <td>Payment</td>\n",
       "      <td>4020.00</td>\n",
       "      <td>0.0</td>\n",
       "      <td>76180.0</td>\n",
       "      <td>0</td>\n",
       "      <td>NaN</td>\n",
       "    </tr>\n",
       "  </tbody>\n",
       "</table>\n",
       "<p>5 rows × 28 columns</p>\n",
       "</div>"
      ],
      "text/plain": [
       "                      Account Name          Account Description  \\\n",
       "0  3-40-100220-00000-ASUCFunds-SCF  ASUC/GA Student Fee Funding   \n",
       "1  3-40-100220-00000-ASUCFunds-SCF  ASUC/GA Student Fee Funding   \n",
       "2  3-40-100220-00000-ASUCFunds-SCF  ASUC/GA Student Fee Funding   \n",
       "3  3-40-100220-00000-ASUCFunds-SCF  ASUC/GA Student Fee Funding   \n",
       "4  3-40-100220-00000-ASUCFunds-SCF  ASUC/GA Student Fee Funding   \n",
       "\n",
       "   Transaction Reference #       Date Reconciled             Created By  \\\n",
       "0                  1705233 2016-08-17         No                    NaN   \n",
       "1                  1705287 2016-08-17         No                    NaN   \n",
       "2                  1705571 2016-08-24         No  Robert Jittrikawiphol   \n",
       "3                  1707772 2016-10-06         No            VIRGIL TANG   \n",
       "4                  1707841 2016-10-06         No                    NaN   \n",
       "\n",
       "                             Payee/Source First Name Payee/Source Last Name  \\\n",
       "0                 Reversal of Year End 15-16 Balance                    NaN   \n",
       "1  FY 16-17 Budget Allocation - Senate Contingenc...                    NaN   \n",
       "2  Transfer from '3-40-203100-00000-ASUCFunds-UAV...                    NaN   \n",
       "3                                             Sheena                   Paul   \n",
       "4                              Robert Jittrikawiphol                    NaN   \n",
       "\n",
       "              Originator Account Name      From Request - Account Name  ...  \\\n",
       "0     3-40-100220-00000-ASUCFunds-SCF                              NaN  ...   \n",
       "1     3-40-100220-00000-ASUCFunds-SCF                              NaN  ...   \n",
       "2  3-40-203100-00000-ASUCFunds-UAVA-B                              NaN  ...   \n",
       "3     3-40-100220-00000-ASUCFunds-SCF  3-40-100220-00000-ASUCFunds-SCF  ...   \n",
       "4     3-40-100220-00000-ASUCFunds-SCF                              NaN  ...   \n",
       "\n",
       "   From Request - Payee ZIP  \\\n",
       "0                       NaN   \n",
       "1                       NaN   \n",
       "2                       NaN   \n",
       "3                   94609.0   \n",
       "4                       NaN   \n",
       "\n",
       "                                                Memo  \\\n",
       "0                 Reversal of Year End 15-16 Balance   \n",
       "1  FY 16-17 Budget Allocation - Senate Contingenc...   \n",
       "2  ESC grouped organization , returning funds bac...   \n",
       "3                             VT 9/28/2016 CK#122570   \n",
       "4  October 5, 2016 ASUC Senate Contingency Fund A...   \n",
       "\n",
       "                        Category                                      Type  \\\n",
       "0  X-Adjustment (Admin use only)                 Direct Deposit ACH/Stripe   \n",
       "1  X-Adjustment (Admin use only)                 Direct Deposit ACH/Stripe   \n",
       "2  X-Adjustment (Admin use only)                                       NaN   \n",
       "3                        Stipend                                     Check   \n",
       "4      Transfer between Accounts  Internal Allocation/Transaction/Transfer   \n",
       "\n",
       "  Transaction Method    Amount Ending Balance After Available Balance After  \\\n",
       "0            Payment  25080.28                  0.0                     0.0   \n",
       "1            Deposit  80000.00                  0.0                 80000.0   \n",
       "2            Deposit    400.00                  0.0                 80400.0   \n",
       "3            Payment    200.00                  0.0                 80200.0   \n",
       "4            Payment   4020.00                  0.0                 76180.0   \n",
       "\n",
       "   Admin Recipient  \n",
       "0      1       NaN  \n",
       "1      1       NaN  \n",
       "2      1       NaN  \n",
       "3      0       NaN  \n",
       "4      0       NaN  \n",
       "\n",
       "[5 rows x 28 columns]"
      ]
     },
     "execution_count": 11,
     "metadata": {},
     "output_type": "execute_result"
    }
   ],
   "source": [
    "SUContingency.head(5)"
   ]
  },
  {
   "cell_type": "markdown",
   "metadata": {},
   "source": [
    "<h2 style=\"height: 6px; background-color: #003262; width: 95%;\"></h2>\n",
    "<h2 style=\"height: 2px; background-color: #FDB515; width: 90%; margin-bottom: 0px;\"></h2>"
   ]
  },
  {
   "cell_type": "markdown",
   "metadata": {},
   "source": [
    "## Section 2: Initial Statistics"
   ]
  },
  {
   "cell_type": "code",
   "execution_count": 12,
   "metadata": {},
   "outputs": [
    {
     "data": {
      "text/plain": [
       "count       99.000000\n",
       "mean       832.734040\n",
       "std       2018.609419\n",
       "min       -470.000000\n",
       "25%        250.000000\n",
       "50%        432.000000\n",
       "75%        660.000000\n",
       "max      18000.000000\n",
       "Name: Amount, dtype: float64"
      ]
     },
     "execution_count": 12,
     "metadata": {},
     "output_type": "execute_result"
    }
   ],
   "source": [
    "Contingency_2324['Amount'].describe()"
   ]
  },
  {
   "cell_type": "code",
   "execution_count": 13,
   "metadata": {},
   "outputs": [
    {
     "data": {
      "text/plain": [
       "82440.67000000001"
      ]
     },
     "execution_count": 13,
     "metadata": {},
     "output_type": "execute_result"
    }
   ],
   "source": [
    "sum(Contingency_2324['Amount'])"
   ]
  },
  {
   "cell_type": "code",
   "execution_count": 14,
   "metadata": {},
   "outputs": [
    {
     "data": {
      "text/plain": [
       "count      540.000000\n",
       "mean      1696.945630\n",
       "std       7318.897354\n",
       "min      -1500.000000\n",
       "25%        299.750000\n",
       "50%        500.000000\n",
       "75%       1200.000000\n",
       "max      93542.000000\n",
       "Name: Amount, dtype: float64"
      ]
     },
     "execution_count": 14,
     "metadata": {},
     "output_type": "execute_result"
    }
   ],
   "source": [
    "SUContingency['Amount'].describe()"
   ]
  },
  {
   "cell_type": "markdown",
   "metadata": {},
   "source": [
    "<h2 style=\"height: 6px; background-color: #003262; width: 95%;\"></h2>\n",
    "<h2 style=\"height: 2px; background-color: #FDB515; width: 90%; margin-bottom: 0px;\"></h2>"
   ]
  },
  {
   "cell_type": "markdown",
   "metadata": {},
   "source": [
    "## Section 3: Figures"
   ]
  },
  {
   "cell_type": "code",
   "execution_count": 15,
   "metadata": {},
   "outputs": [
    {
     "data": {
      "application/vnd.plotly.v1+json": {
       "config": {
        "plotlyServerURL": "https://plot.ly"
       },
       "data": [
        {
         "hovertemplate": "Date=%{x}<br>Available Balance After=%{y}<extra></extra>",
         "legendgroup": "",
         "line": {
          "color": "#636efa",
          "dash": "solid"
         },
         "marker": {
          "symbol": "circle"
         },
         "mode": "lines",
         "name": "",
         "orientation": "v",
         "showlegend": false,
         "type": "scatter",
         "x": [
          "2023-09-21T00:00:00",
          "2023-09-21T00:00:00",
          "2023-09-28T00:00:00",
          "2023-09-28T00:00:00",
          "2023-09-29T00:00:00",
          "2023-09-29T00:00:00",
          "2023-10-06T00:00:00",
          "2023-10-06T00:00:00",
          "2023-10-06T00:00:00",
          "2023-10-06T00:00:00",
          "2023-10-06T00:00:00",
          "2023-10-06T00:00:00",
          "2023-10-06T00:00:00",
          "2023-10-06T00:00:00",
          "2023-10-06T00:00:00",
          "2023-10-06T00:00:00",
          "2023-10-19T00:00:00",
          "2023-10-19T00:00:00",
          "2023-10-19T00:00:00",
          "2023-10-19T00:00:00",
          "2023-10-19T00:00:00",
          "2023-10-19T00:00:00",
          "2023-10-19T00:00:00",
          "2023-10-19T00:00:00",
          "2023-10-19T00:00:00",
          "2023-10-19T00:00:00",
          "2023-10-19T00:00:00",
          "2023-10-31T00:00:00",
          "2023-10-31T00:00:00",
          "2023-10-31T00:00:00",
          "2023-10-31T00:00:00",
          "2023-11-06T00:00:00",
          "2023-11-06T00:00:00",
          "2023-11-06T00:00:00",
          "2023-11-06T00:00:00",
          "2023-11-11T00:00:00",
          "2023-11-11T00:00:00",
          "2023-11-11T00:00:00",
          "2023-11-11T00:00:00",
          "2023-11-11T00:00:00",
          "2023-11-17T00:00:00",
          "2023-11-17T00:00:00",
          "2023-12-04T00:00:00",
          "2023-12-04T00:00:00",
          "2024-01-25T00:00:00",
          "2024-01-25T00:00:00",
          "2024-01-25T00:00:00",
          "2024-02-01T00:00:00",
          "2024-02-01T00:00:00",
          "2024-02-06T00:00:00",
          "2024-02-06T00:00:00",
          "2024-02-08T00:00:00",
          "2024-02-08T00:00:00",
          "2024-02-08T00:00:00",
          "2024-02-08T00:00:00",
          "2024-02-08T00:00:00",
          "2024-02-08T00:00:00",
          "2024-02-15T00:00:00",
          "2024-02-15T00:00:00",
          "2024-02-15T00:00:00",
          "2024-02-15T00:00:00",
          "2024-03-01T00:00:00",
          "2024-03-01T00:00:00",
          "2024-03-01T00:00:00",
          "2024-03-01T00:00:00",
          "2024-03-07T00:00:00",
          "2024-03-07T00:00:00",
          "2024-03-07T00:00:00",
          "2024-03-07T00:00:00",
          "2024-03-07T00:00:00",
          "2024-03-07T00:00:00",
          "2024-03-07T00:00:00",
          "2024-03-15T00:00:00",
          "2024-03-15T00:00:00",
          "2024-03-15T00:00:00",
          "2024-03-15T00:00:00",
          "2024-03-15T00:00:00",
          "2024-03-15T00:00:00",
          "2024-03-15T00:00:00",
          "2024-03-27T00:00:00",
          "2024-04-13T00:00:00",
          "2024-04-13T00:00:00",
          "2024-04-13T00:00:00",
          "2024-04-13T00:00:00",
          "2024-04-13T00:00:00",
          "2024-04-13T00:00:00",
          "2024-04-13T00:00:00",
          "2024-04-13T00:00:00",
          "2024-04-13T00:00:00",
          "2024-04-13T00:00:00",
          "2024-04-13T00:00:00",
          "2024-04-13T00:00:00",
          "2024-04-13T00:00:00",
          "2024-04-13T00:00:00",
          "2024-04-23T00:00:00",
          "2024-04-23T00:00:00",
          "2024-04-28T00:00:00",
          "2024-04-28T00:00:00",
          "2024-04-28T00:00:00"
         ],
         "xaxis": "x",
         "y": [
          98500,
          97900,
          97615.2,
          97225.2,
          96940.4,
          97225.2,
          96725.2,
          96255.2,
          96725.2,
          96255.2,
          95855.2,
          94355.2,
          94155.2,
          93655.2,
          93155.2,
          92655.2,
          92403.2,
          90903.2,
          90403.2,
          89403.2,
          88903.2,
          88283.2,
          87783.2,
          87333.2,
          87183.2,
          86841.92,
          86341.92,
          85941.92,
          85791.92,
          85459.55,
          67459.55,
          67059.55,
          66659.55,
          66362.03,
          65482.03,
          65282.03,
          63782.03,
          63457.03,
          63132.03,
          61632.03,
          61406.03,
          60686.03,
          60316.03,
          58816.03,
          58416.03,
          58166.03,
          58116.03,
          58057.07,
          56557.07,
          54057.07,
          53557.07,
          53157.07,
          52657.07,
          52626.02,
          52376.02,
          51976.02,
          51456.02,
          51420.02,
          50920.02,
          50420.02,
          49220.02,
          48820.02,
          48320.02,
          47820.02,
          47787.33,
          46287.33,
          44787.33,
          44287.33,
          44017.33,
          43857.17,
          43677.17,
          43457.17,
          43397.17,
          43002.27,
          42902.27,
          42703.27,
          41703.27,
          41178.27,
          41028.27,
          31703.13,
          30203.13,
          29903.13,
          29754.17,
          29554.17,
          29394.17,
          29147.17,
          28715.17,
          27215.17,
          26715.17,
          26665.17,
          25315.17,
          24747.85,
          24437.85,
          22937.85,
          21437.85,
          19987.85,
          19287.85,
          19037.85,
          17559.33
         ],
         "yaxis": "y"
        }
       ],
       "layout": {
        "legend": {
         "tracegroupgap": 0
        },
        "template": {
         "data": {
          "bar": [
           {
            "error_x": {
             "color": "#2a3f5f"
            },
            "error_y": {
             "color": "#2a3f5f"
            },
            "marker": {
             "line": {
              "color": "#E5ECF6",
              "width": 0.5
             },
             "pattern": {
              "fillmode": "overlay",
              "size": 10,
              "solidity": 0.2
             }
            },
            "type": "bar"
           }
          ],
          "barpolar": [
           {
            "marker": {
             "line": {
              "color": "#E5ECF6",
              "width": 0.5
             },
             "pattern": {
              "fillmode": "overlay",
              "size": 10,
              "solidity": 0.2
             }
            },
            "type": "barpolar"
           }
          ],
          "carpet": [
           {
            "aaxis": {
             "endlinecolor": "#2a3f5f",
             "gridcolor": "white",
             "linecolor": "white",
             "minorgridcolor": "white",
             "startlinecolor": "#2a3f5f"
            },
            "baxis": {
             "endlinecolor": "#2a3f5f",
             "gridcolor": "white",
             "linecolor": "white",
             "minorgridcolor": "white",
             "startlinecolor": "#2a3f5f"
            },
            "type": "carpet"
           }
          ],
          "choropleth": [
           {
            "colorbar": {
             "outlinewidth": 0,
             "ticks": ""
            },
            "type": "choropleth"
           }
          ],
          "contour": [
           {
            "colorbar": {
             "outlinewidth": 0,
             "ticks": ""
            },
            "colorscale": [
             [
              0,
              "#0d0887"
             ],
             [
              0.1111111111111111,
              "#46039f"
             ],
             [
              0.2222222222222222,
              "#7201a8"
             ],
             [
              0.3333333333333333,
              "#9c179e"
             ],
             [
              0.4444444444444444,
              "#bd3786"
             ],
             [
              0.5555555555555556,
              "#d8576b"
             ],
             [
              0.6666666666666666,
              "#ed7953"
             ],
             [
              0.7777777777777778,
              "#fb9f3a"
             ],
             [
              0.8888888888888888,
              "#fdca26"
             ],
             [
              1,
              "#f0f921"
             ]
            ],
            "type": "contour"
           }
          ],
          "contourcarpet": [
           {
            "colorbar": {
             "outlinewidth": 0,
             "ticks": ""
            },
            "type": "contourcarpet"
           }
          ],
          "heatmap": [
           {
            "colorbar": {
             "outlinewidth": 0,
             "ticks": ""
            },
            "colorscale": [
             [
              0,
              "#0d0887"
             ],
             [
              0.1111111111111111,
              "#46039f"
             ],
             [
              0.2222222222222222,
              "#7201a8"
             ],
             [
              0.3333333333333333,
              "#9c179e"
             ],
             [
              0.4444444444444444,
              "#bd3786"
             ],
             [
              0.5555555555555556,
              "#d8576b"
             ],
             [
              0.6666666666666666,
              "#ed7953"
             ],
             [
              0.7777777777777778,
              "#fb9f3a"
             ],
             [
              0.8888888888888888,
              "#fdca26"
             ],
             [
              1,
              "#f0f921"
             ]
            ],
            "type": "heatmap"
           }
          ],
          "heatmapgl": [
           {
            "colorbar": {
             "outlinewidth": 0,
             "ticks": ""
            },
            "colorscale": [
             [
              0,
              "#0d0887"
             ],
             [
              0.1111111111111111,
              "#46039f"
             ],
             [
              0.2222222222222222,
              "#7201a8"
             ],
             [
              0.3333333333333333,
              "#9c179e"
             ],
             [
              0.4444444444444444,
              "#bd3786"
             ],
             [
              0.5555555555555556,
              "#d8576b"
             ],
             [
              0.6666666666666666,
              "#ed7953"
             ],
             [
              0.7777777777777778,
              "#fb9f3a"
             ],
             [
              0.8888888888888888,
              "#fdca26"
             ],
             [
              1,
              "#f0f921"
             ]
            ],
            "type": "heatmapgl"
           }
          ],
          "histogram": [
           {
            "marker": {
             "pattern": {
              "fillmode": "overlay",
              "size": 10,
              "solidity": 0.2
             }
            },
            "type": "histogram"
           }
          ],
          "histogram2d": [
           {
            "colorbar": {
             "outlinewidth": 0,
             "ticks": ""
            },
            "colorscale": [
             [
              0,
              "#0d0887"
             ],
             [
              0.1111111111111111,
              "#46039f"
             ],
             [
              0.2222222222222222,
              "#7201a8"
             ],
             [
              0.3333333333333333,
              "#9c179e"
             ],
             [
              0.4444444444444444,
              "#bd3786"
             ],
             [
              0.5555555555555556,
              "#d8576b"
             ],
             [
              0.6666666666666666,
              "#ed7953"
             ],
             [
              0.7777777777777778,
              "#fb9f3a"
             ],
             [
              0.8888888888888888,
              "#fdca26"
             ],
             [
              1,
              "#f0f921"
             ]
            ],
            "type": "histogram2d"
           }
          ],
          "histogram2dcontour": [
           {
            "colorbar": {
             "outlinewidth": 0,
             "ticks": ""
            },
            "colorscale": [
             [
              0,
              "#0d0887"
             ],
             [
              0.1111111111111111,
              "#46039f"
             ],
             [
              0.2222222222222222,
              "#7201a8"
             ],
             [
              0.3333333333333333,
              "#9c179e"
             ],
             [
              0.4444444444444444,
              "#bd3786"
             ],
             [
              0.5555555555555556,
              "#d8576b"
             ],
             [
              0.6666666666666666,
              "#ed7953"
             ],
             [
              0.7777777777777778,
              "#fb9f3a"
             ],
             [
              0.8888888888888888,
              "#fdca26"
             ],
             [
              1,
              "#f0f921"
             ]
            ],
            "type": "histogram2dcontour"
           }
          ],
          "mesh3d": [
           {
            "colorbar": {
             "outlinewidth": 0,
             "ticks": ""
            },
            "type": "mesh3d"
           }
          ],
          "parcoords": [
           {
            "line": {
             "colorbar": {
              "outlinewidth": 0,
              "ticks": ""
             }
            },
            "type": "parcoords"
           }
          ],
          "pie": [
           {
            "automargin": true,
            "type": "pie"
           }
          ],
          "scatter": [
           {
            "fillpattern": {
             "fillmode": "overlay",
             "size": 10,
             "solidity": 0.2
            },
            "type": "scatter"
           }
          ],
          "scatter3d": [
           {
            "line": {
             "colorbar": {
              "outlinewidth": 0,
              "ticks": ""
             }
            },
            "marker": {
             "colorbar": {
              "outlinewidth": 0,
              "ticks": ""
             }
            },
            "type": "scatter3d"
           }
          ],
          "scattercarpet": [
           {
            "marker": {
             "colorbar": {
              "outlinewidth": 0,
              "ticks": ""
             }
            },
            "type": "scattercarpet"
           }
          ],
          "scattergeo": [
           {
            "marker": {
             "colorbar": {
              "outlinewidth": 0,
              "ticks": ""
             }
            },
            "type": "scattergeo"
           }
          ],
          "scattergl": [
           {
            "marker": {
             "colorbar": {
              "outlinewidth": 0,
              "ticks": ""
             }
            },
            "type": "scattergl"
           }
          ],
          "scattermapbox": [
           {
            "marker": {
             "colorbar": {
              "outlinewidth": 0,
              "ticks": ""
             }
            },
            "type": "scattermapbox"
           }
          ],
          "scatterpolar": [
           {
            "marker": {
             "colorbar": {
              "outlinewidth": 0,
              "ticks": ""
             }
            },
            "type": "scatterpolar"
           }
          ],
          "scatterpolargl": [
           {
            "marker": {
             "colorbar": {
              "outlinewidth": 0,
              "ticks": ""
             }
            },
            "type": "scatterpolargl"
           }
          ],
          "scatterternary": [
           {
            "marker": {
             "colorbar": {
              "outlinewidth": 0,
              "ticks": ""
             }
            },
            "type": "scatterternary"
           }
          ],
          "surface": [
           {
            "colorbar": {
             "outlinewidth": 0,
             "ticks": ""
            },
            "colorscale": [
             [
              0,
              "#0d0887"
             ],
             [
              0.1111111111111111,
              "#46039f"
             ],
             [
              0.2222222222222222,
              "#7201a8"
             ],
             [
              0.3333333333333333,
              "#9c179e"
             ],
             [
              0.4444444444444444,
              "#bd3786"
             ],
             [
              0.5555555555555556,
              "#d8576b"
             ],
             [
              0.6666666666666666,
              "#ed7953"
             ],
             [
              0.7777777777777778,
              "#fb9f3a"
             ],
             [
              0.8888888888888888,
              "#fdca26"
             ],
             [
              1,
              "#f0f921"
             ]
            ],
            "type": "surface"
           }
          ],
          "table": [
           {
            "cells": {
             "fill": {
              "color": "#EBF0F8"
             },
             "line": {
              "color": "white"
             }
            },
            "header": {
             "fill": {
              "color": "#C8D4E3"
             },
             "line": {
              "color": "white"
             }
            },
            "type": "table"
           }
          ]
         },
         "layout": {
          "annotationdefaults": {
           "arrowcolor": "#2a3f5f",
           "arrowhead": 0,
           "arrowwidth": 1
          },
          "autotypenumbers": "strict",
          "coloraxis": {
           "colorbar": {
            "outlinewidth": 0,
            "ticks": ""
           }
          },
          "colorscale": {
           "diverging": [
            [
             0,
             "#8e0152"
            ],
            [
             0.1,
             "#c51b7d"
            ],
            [
             0.2,
             "#de77ae"
            ],
            [
             0.3,
             "#f1b6da"
            ],
            [
             0.4,
             "#fde0ef"
            ],
            [
             0.5,
             "#f7f7f7"
            ],
            [
             0.6,
             "#e6f5d0"
            ],
            [
             0.7,
             "#b8e186"
            ],
            [
             0.8,
             "#7fbc41"
            ],
            [
             0.9,
             "#4d9221"
            ],
            [
             1,
             "#276419"
            ]
           ],
           "sequential": [
            [
             0,
             "#0d0887"
            ],
            [
             0.1111111111111111,
             "#46039f"
            ],
            [
             0.2222222222222222,
             "#7201a8"
            ],
            [
             0.3333333333333333,
             "#9c179e"
            ],
            [
             0.4444444444444444,
             "#bd3786"
            ],
            [
             0.5555555555555556,
             "#d8576b"
            ],
            [
             0.6666666666666666,
             "#ed7953"
            ],
            [
             0.7777777777777778,
             "#fb9f3a"
            ],
            [
             0.8888888888888888,
             "#fdca26"
            ],
            [
             1,
             "#f0f921"
            ]
           ],
           "sequentialminus": [
            [
             0,
             "#0d0887"
            ],
            [
             0.1111111111111111,
             "#46039f"
            ],
            [
             0.2222222222222222,
             "#7201a8"
            ],
            [
             0.3333333333333333,
             "#9c179e"
            ],
            [
             0.4444444444444444,
             "#bd3786"
            ],
            [
             0.5555555555555556,
             "#d8576b"
            ],
            [
             0.6666666666666666,
             "#ed7953"
            ],
            [
             0.7777777777777778,
             "#fb9f3a"
            ],
            [
             0.8888888888888888,
             "#fdca26"
            ],
            [
             1,
             "#f0f921"
            ]
           ]
          },
          "colorway": [
           "#636efa",
           "#EF553B",
           "#00cc96",
           "#ab63fa",
           "#FFA15A",
           "#19d3f3",
           "#FF6692",
           "#B6E880",
           "#FF97FF",
           "#FECB52"
          ],
          "font": {
           "color": "#2a3f5f"
          },
          "geo": {
           "bgcolor": "white",
           "lakecolor": "white",
           "landcolor": "#E5ECF6",
           "showlakes": true,
           "showland": true,
           "subunitcolor": "white"
          },
          "hoverlabel": {
           "align": "left"
          },
          "hovermode": "closest",
          "mapbox": {
           "style": "light"
          },
          "paper_bgcolor": "white",
          "plot_bgcolor": "#E5ECF6",
          "polar": {
           "angularaxis": {
            "gridcolor": "white",
            "linecolor": "white",
            "ticks": ""
           },
           "bgcolor": "#E5ECF6",
           "radialaxis": {
            "gridcolor": "white",
            "linecolor": "white",
            "ticks": ""
           }
          },
          "scene": {
           "xaxis": {
            "backgroundcolor": "#E5ECF6",
            "gridcolor": "white",
            "gridwidth": 2,
            "linecolor": "white",
            "showbackground": true,
            "ticks": "",
            "zerolinecolor": "white"
           },
           "yaxis": {
            "backgroundcolor": "#E5ECF6",
            "gridcolor": "white",
            "gridwidth": 2,
            "linecolor": "white",
            "showbackground": true,
            "ticks": "",
            "zerolinecolor": "white"
           },
           "zaxis": {
            "backgroundcolor": "#E5ECF6",
            "gridcolor": "white",
            "gridwidth": 2,
            "linecolor": "white",
            "showbackground": true,
            "ticks": "",
            "zerolinecolor": "white"
           }
          },
          "shapedefaults": {
           "line": {
            "color": "#2a3f5f"
           }
          },
          "ternary": {
           "aaxis": {
            "gridcolor": "white",
            "linecolor": "white",
            "ticks": ""
           },
           "baxis": {
            "gridcolor": "white",
            "linecolor": "white",
            "ticks": ""
           },
           "bgcolor": "#E5ECF6",
           "caxis": {
            "gridcolor": "white",
            "linecolor": "white",
            "ticks": ""
           }
          },
          "title": {
           "x": 0.05
          },
          "xaxis": {
           "automargin": true,
           "gridcolor": "white",
           "linecolor": "white",
           "ticks": "",
           "title": {
            "standoff": 15
           },
           "zerolinecolor": "white",
           "zerolinewidth": 2
          },
          "yaxis": {
           "automargin": true,
           "gridcolor": "white",
           "linecolor": "white",
           "ticks": "",
           "title": {
            "standoff": 15
           },
           "zerolinecolor": "white",
           "zerolinewidth": 2
          }
         }
        },
        "title": {
         "text": "SU Contingency Funding Total Balance over Time (FY24)"
        },
        "xaxis": {
         "anchor": "y",
         "domain": [
          0,
          1
         ],
         "title": {
          "text": "Date"
         }
        },
        "yaxis": {
         "anchor": "x",
         "domain": [
          0,
          1
         ],
         "title": {
          "text": "Available Balance After"
         }
        }
       }
      }
     },
     "metadata": {},
     "output_type": "display_data"
    }
   ],
   "source": [
    "fig_1 = px.line(Non_Admin_Contin2324, x=\"Date\", y=\"Available Balance After\", \n",
    "                title='SU Contingency Funding Total Balance over Time (FY24)')\n",
    "fig_1.show()"
   ]
  },
  {
   "cell_type": "code",
   "execution_count": 16,
   "metadata": {},
   "outputs": [
    {
     "data": {
      "application/vnd.plotly.v1+json": {
       "config": {
        "plotlyServerURL": "https://plot.ly"
       },
       "data": [
        {
         "hovertemplate": "Date=%{x}<br>Available Balance After=%{y}<extra></extra>",
         "legendgroup": "",
         "line": {
          "color": "#636efa",
          "dash": "solid"
         },
         "marker": {
          "symbol": "circle"
         },
         "mode": "lines",
         "name": "",
         "orientation": "v",
         "showlegend": false,
         "type": "scatter",
         "x": [
          "2016-10-06T00:00:00",
          "2016-10-14T00:00:00",
          "2016-10-31T00:00:00",
          "2016-11-03T00:00:00",
          "2016-11-07T00:00:00",
          "2016-11-14T00:00:00",
          "2016-11-16T00:00:00",
          "2016-11-18T00:00:00",
          "2016-12-08T00:00:00",
          "2016-12-09T00:00:00",
          "2017-01-06T00:00:00",
          "2017-01-27T00:00:00",
          "2017-02-10T00:00:00",
          "2017-02-16T00:00:00",
          "2017-03-03T00:00:00",
          "2017-03-13T00:00:00",
          "2017-03-16T00:00:00",
          "2017-04-12T00:00:00",
          "2017-09-25T00:00:00",
          "2017-10-03T00:00:00",
          "2017-10-05T00:00:00",
          "2017-10-19T00:00:00",
          "2017-10-26T00:00:00",
          "2017-11-02T00:00:00",
          "2017-11-13T00:00:00",
          "2017-11-16T00:00:00",
          "2017-11-30T00:00:00",
          "2018-02-01T00:00:00",
          "2018-02-08T00:00:00",
          "2018-02-15T00:00:00",
          "2018-03-02T00:00:00",
          "2018-03-08T00:00:00",
          "2018-03-15T00:00:00",
          "2018-03-22T00:00:00",
          "2018-04-09T00:00:00",
          "2018-10-11T00:00:00",
          "2018-10-22T00:00:00",
          "2018-10-30T00:00:00",
          "2018-11-02T00:00:00",
          "2018-11-08T00:00:00",
          "2018-11-29T00:00:00",
          "2019-02-01T00:00:00",
          "2019-02-07T00:00:00",
          "2019-02-14T00:00:00",
          "2019-03-07T00:00:00",
          "2019-03-14T00:00:00",
          "2019-03-21T00:00:00",
          "2019-04-18T00:00:00",
          "2019-04-25T00:00:00",
          "2019-05-02T00:00:00",
          "2019-09-19T00:00:00",
          "2019-09-26T00:00:00",
          "2019-10-03T00:00:00",
          "2019-10-08T00:00:00",
          "2019-10-15T00:00:00",
          "2019-10-17T00:00:00",
          "2019-10-24T00:00:00",
          "2019-11-15T00:00:00",
          "2019-11-21T00:00:00",
          "2019-12-16T00:00:00",
          "2020-01-31T00:00:00",
          "2020-02-10T00:00:00",
          "2020-02-13T00:00:00",
          "2020-02-27T00:00:00",
          "2020-03-30T00:00:00",
          "2020-04-01T00:00:00",
          "2020-04-04T00:00:00",
          "2020-04-06T00:00:00",
          "2020-10-05T00:00:00",
          "2020-10-16T00:00:00",
          "2020-10-30T00:00:00",
          "2020-12-07T00:00:00",
          "2021-02-03T00:00:00",
          "2021-02-05T00:00:00",
          "2021-02-12T00:00:00",
          "2021-02-25T00:00:00",
          "2021-03-12T00:00:00",
          "2021-04-02T00:00:00",
          "2021-04-09T00:00:00",
          "2021-04-16T00:00:00",
          "2021-04-23T00:00:00",
          "2021-04-30T00:00:00",
          "2021-10-18T00:00:00",
          "2021-10-19T00:00:00",
          "2021-10-21T00:00:00",
          "2021-10-28T00:00:00",
          "2021-11-04T00:00:00",
          "2021-11-12T00:00:00",
          "2021-11-19T00:00:00",
          "2022-01-26T00:00:00",
          "2022-01-27T00:00:00",
          "2022-02-03T00:00:00",
          "2022-02-10T00:00:00",
          "2022-03-04T00:00:00",
          "2022-03-10T00:00:00",
          "2022-03-15T00:00:00",
          "2022-03-29T00:00:00",
          "2022-03-31T00:00:00",
          "2022-04-11T00:00:00",
          "2022-04-15T00:00:00",
          "2022-04-22T00:00:00",
          "2022-04-28T00:00:00",
          "2022-05-13T00:00:00",
          "2022-09-23T00:00:00",
          "2022-09-30T00:00:00",
          "2022-10-05T00:00:00",
          "2022-10-21T00:00:00",
          "2022-10-27T00:00:00",
          "2022-10-28T00:00:00",
          "2022-11-04T00:00:00",
          "2022-11-10T00:00:00",
          "2022-11-29T00:00:00",
          "2022-12-01T00:00:00",
          "2022-12-28T00:00:00",
          "2023-01-11T00:00:00",
          "2023-01-26T00:00:00",
          "2023-02-03T00:00:00",
          "2023-02-10T00:00:00",
          "2023-02-16T00:00:00",
          "2023-03-02T00:00:00",
          "2023-03-09T00:00:00",
          "2023-03-16T00:00:00",
          "2023-03-24T00:00:00",
          "2023-04-10T00:00:00",
          "2023-04-13T00:00:00",
          "2023-04-21T00:00:00",
          "2023-04-24T00:00:00",
          "2023-04-27T00:00:00",
          "2023-09-21T00:00:00",
          "2023-09-28T00:00:00",
          "2023-09-29T00:00:00",
          "2023-10-06T00:00:00",
          "2023-10-19T00:00:00",
          "2023-10-31T00:00:00",
          "2023-11-06T00:00:00",
          "2023-11-11T00:00:00",
          "2023-11-17T00:00:00",
          "2023-12-04T00:00:00",
          "2024-01-25T00:00:00",
          "2024-02-01T00:00:00",
          "2024-02-06T00:00:00",
          "2024-02-08T00:00:00",
          "2024-02-15T00:00:00",
          "2024-03-01T00:00:00",
          "2024-03-07T00:00:00",
          "2024-03-15T00:00:00",
          "2024-03-27T00:00:00",
          "2024-04-13T00:00:00",
          "2024-04-23T00:00:00",
          "2024-04-28T00:00:00"
         ],
         "xaxis": "x",
         "y": [
          76180,
          74080,
          70630,
          66780,
          64715.25,
          64715.25,
          62046.25,
          59196.25,
          58491.25,
          56891.25,
          55791.25,
          53831.99,
          51419.16,
          51169.16,
          47769.16,
          44094.16,
          39357.16,
          30907.16,
          59200,
          57535,
          56129.5,
          54029.5,
          49595.5,
          47715.5,
          44965.5,
          44065.5,
          41765.5,
          40244.5,
          38244.5,
          36363.5,
          35041.7,
          33386.7,
          31086.7,
          25286.7,
          23913.7,
          92717,
          78817,
          78022,
          77404.5,
          75505.5,
          74830.5,
          72855.5,
          71882.52,
          71682.52,
          68182.52,
          66682.52,
          65182.52,
          60681.82,
          59681.82,
          58705.09,
          -392,
          29608,
          87073,
          87073,
          85797,
          85497,
          82997,
          79497,
          79997,
          82070,
          80870,
          76270,
          74113,
          72213,
          66080,
          66580,
          78681.05,
          73681.05,
          98630,
          97145,
          95645,
          93675.63,
          92860.63,
          92840.63,
          92810.63,
          92310.63,
          91882.66,
          91851.66,
          90226.66,
          89253.72,
          88833.66,
          87132.06,
          99600,
          97100,
          91843.74,
          90443.74,
          89532.69,
          87232.69,
          80703.54,
          76107.54,
          74015.32,
          71019.44,
          70719.44,
          68345.2,
          64465.2,
          63695.22,
          62495.22,
          60268.22,
          53968.22,
          50818.22,
          44332.02,
          42832.02,
          42432.02,
          98230,
          96613,
          92922.15,
          92022.15,
          86978.15,
          105163.15,
          97663.15,
          90793.26,
          89521.42,
          81046.12,
          80546.12,
          80660.15,
          85937.83,
          83668.33,
          76511.95,
          72183.95,
          65223.07,
          61973.07,
          55873.07,
          54873.07,
          51273.07,
          46473.07,
          42253.07,
          40753.07,
          40922.2,
          97900,
          97225.2,
          96940.4,
          92655.2,
          86341.92,
          67459.55,
          65482.03,
          61632.03,
          60686.03,
          58816.03,
          58116.03,
          56557.07,
          53557.07,
          51456.02,
          49220.02,
          47787.33,
          43457.17,
          41028.27,
          31703.13,
          22937.85,
          19987.85,
          17559.33
         ],
         "yaxis": "y"
        }
       ],
       "layout": {
        "legend": {
         "tracegroupgap": 0
        },
        "template": {
         "data": {
          "bar": [
           {
            "error_x": {
             "color": "#2a3f5f"
            },
            "error_y": {
             "color": "#2a3f5f"
            },
            "marker": {
             "line": {
              "color": "#E5ECF6",
              "width": 0.5
             },
             "pattern": {
              "fillmode": "overlay",
              "size": 10,
              "solidity": 0.2
             }
            },
            "type": "bar"
           }
          ],
          "barpolar": [
           {
            "marker": {
             "line": {
              "color": "#E5ECF6",
              "width": 0.5
             },
             "pattern": {
              "fillmode": "overlay",
              "size": 10,
              "solidity": 0.2
             }
            },
            "type": "barpolar"
           }
          ],
          "carpet": [
           {
            "aaxis": {
             "endlinecolor": "#2a3f5f",
             "gridcolor": "white",
             "linecolor": "white",
             "minorgridcolor": "white",
             "startlinecolor": "#2a3f5f"
            },
            "baxis": {
             "endlinecolor": "#2a3f5f",
             "gridcolor": "white",
             "linecolor": "white",
             "minorgridcolor": "white",
             "startlinecolor": "#2a3f5f"
            },
            "type": "carpet"
           }
          ],
          "choropleth": [
           {
            "colorbar": {
             "outlinewidth": 0,
             "ticks": ""
            },
            "type": "choropleth"
           }
          ],
          "contour": [
           {
            "colorbar": {
             "outlinewidth": 0,
             "ticks": ""
            },
            "colorscale": [
             [
              0,
              "#0d0887"
             ],
             [
              0.1111111111111111,
              "#46039f"
             ],
             [
              0.2222222222222222,
              "#7201a8"
             ],
             [
              0.3333333333333333,
              "#9c179e"
             ],
             [
              0.4444444444444444,
              "#bd3786"
             ],
             [
              0.5555555555555556,
              "#d8576b"
             ],
             [
              0.6666666666666666,
              "#ed7953"
             ],
             [
              0.7777777777777778,
              "#fb9f3a"
             ],
             [
              0.8888888888888888,
              "#fdca26"
             ],
             [
              1,
              "#f0f921"
             ]
            ],
            "type": "contour"
           }
          ],
          "contourcarpet": [
           {
            "colorbar": {
             "outlinewidth": 0,
             "ticks": ""
            },
            "type": "contourcarpet"
           }
          ],
          "heatmap": [
           {
            "colorbar": {
             "outlinewidth": 0,
             "ticks": ""
            },
            "colorscale": [
             [
              0,
              "#0d0887"
             ],
             [
              0.1111111111111111,
              "#46039f"
             ],
             [
              0.2222222222222222,
              "#7201a8"
             ],
             [
              0.3333333333333333,
              "#9c179e"
             ],
             [
              0.4444444444444444,
              "#bd3786"
             ],
             [
              0.5555555555555556,
              "#d8576b"
             ],
             [
              0.6666666666666666,
              "#ed7953"
             ],
             [
              0.7777777777777778,
              "#fb9f3a"
             ],
             [
              0.8888888888888888,
              "#fdca26"
             ],
             [
              1,
              "#f0f921"
             ]
            ],
            "type": "heatmap"
           }
          ],
          "heatmapgl": [
           {
            "colorbar": {
             "outlinewidth": 0,
             "ticks": ""
            },
            "colorscale": [
             [
              0,
              "#0d0887"
             ],
             [
              0.1111111111111111,
              "#46039f"
             ],
             [
              0.2222222222222222,
              "#7201a8"
             ],
             [
              0.3333333333333333,
              "#9c179e"
             ],
             [
              0.4444444444444444,
              "#bd3786"
             ],
             [
              0.5555555555555556,
              "#d8576b"
             ],
             [
              0.6666666666666666,
              "#ed7953"
             ],
             [
              0.7777777777777778,
              "#fb9f3a"
             ],
             [
              0.8888888888888888,
              "#fdca26"
             ],
             [
              1,
              "#f0f921"
             ]
            ],
            "type": "heatmapgl"
           }
          ],
          "histogram": [
           {
            "marker": {
             "pattern": {
              "fillmode": "overlay",
              "size": 10,
              "solidity": 0.2
             }
            },
            "type": "histogram"
           }
          ],
          "histogram2d": [
           {
            "colorbar": {
             "outlinewidth": 0,
             "ticks": ""
            },
            "colorscale": [
             [
              0,
              "#0d0887"
             ],
             [
              0.1111111111111111,
              "#46039f"
             ],
             [
              0.2222222222222222,
              "#7201a8"
             ],
             [
              0.3333333333333333,
              "#9c179e"
             ],
             [
              0.4444444444444444,
              "#bd3786"
             ],
             [
              0.5555555555555556,
              "#d8576b"
             ],
             [
              0.6666666666666666,
              "#ed7953"
             ],
             [
              0.7777777777777778,
              "#fb9f3a"
             ],
             [
              0.8888888888888888,
              "#fdca26"
             ],
             [
              1,
              "#f0f921"
             ]
            ],
            "type": "histogram2d"
           }
          ],
          "histogram2dcontour": [
           {
            "colorbar": {
             "outlinewidth": 0,
             "ticks": ""
            },
            "colorscale": [
             [
              0,
              "#0d0887"
             ],
             [
              0.1111111111111111,
              "#46039f"
             ],
             [
              0.2222222222222222,
              "#7201a8"
             ],
             [
              0.3333333333333333,
              "#9c179e"
             ],
             [
              0.4444444444444444,
              "#bd3786"
             ],
             [
              0.5555555555555556,
              "#d8576b"
             ],
             [
              0.6666666666666666,
              "#ed7953"
             ],
             [
              0.7777777777777778,
              "#fb9f3a"
             ],
             [
              0.8888888888888888,
              "#fdca26"
             ],
             [
              1,
              "#f0f921"
             ]
            ],
            "type": "histogram2dcontour"
           }
          ],
          "mesh3d": [
           {
            "colorbar": {
             "outlinewidth": 0,
             "ticks": ""
            },
            "type": "mesh3d"
           }
          ],
          "parcoords": [
           {
            "line": {
             "colorbar": {
              "outlinewidth": 0,
              "ticks": ""
             }
            },
            "type": "parcoords"
           }
          ],
          "pie": [
           {
            "automargin": true,
            "type": "pie"
           }
          ],
          "scatter": [
           {
            "fillpattern": {
             "fillmode": "overlay",
             "size": 10,
             "solidity": 0.2
            },
            "type": "scatter"
           }
          ],
          "scatter3d": [
           {
            "line": {
             "colorbar": {
              "outlinewidth": 0,
              "ticks": ""
             }
            },
            "marker": {
             "colorbar": {
              "outlinewidth": 0,
              "ticks": ""
             }
            },
            "type": "scatter3d"
           }
          ],
          "scattercarpet": [
           {
            "marker": {
             "colorbar": {
              "outlinewidth": 0,
              "ticks": ""
             }
            },
            "type": "scattercarpet"
           }
          ],
          "scattergeo": [
           {
            "marker": {
             "colorbar": {
              "outlinewidth": 0,
              "ticks": ""
             }
            },
            "type": "scattergeo"
           }
          ],
          "scattergl": [
           {
            "marker": {
             "colorbar": {
              "outlinewidth": 0,
              "ticks": ""
             }
            },
            "type": "scattergl"
           }
          ],
          "scattermapbox": [
           {
            "marker": {
             "colorbar": {
              "outlinewidth": 0,
              "ticks": ""
             }
            },
            "type": "scattermapbox"
           }
          ],
          "scatterpolar": [
           {
            "marker": {
             "colorbar": {
              "outlinewidth": 0,
              "ticks": ""
             }
            },
            "type": "scatterpolar"
           }
          ],
          "scatterpolargl": [
           {
            "marker": {
             "colorbar": {
              "outlinewidth": 0,
              "ticks": ""
             }
            },
            "type": "scatterpolargl"
           }
          ],
          "scatterternary": [
           {
            "marker": {
             "colorbar": {
              "outlinewidth": 0,
              "ticks": ""
             }
            },
            "type": "scatterternary"
           }
          ],
          "surface": [
           {
            "colorbar": {
             "outlinewidth": 0,
             "ticks": ""
            },
            "colorscale": [
             [
              0,
              "#0d0887"
             ],
             [
              0.1111111111111111,
              "#46039f"
             ],
             [
              0.2222222222222222,
              "#7201a8"
             ],
             [
              0.3333333333333333,
              "#9c179e"
             ],
             [
              0.4444444444444444,
              "#bd3786"
             ],
             [
              0.5555555555555556,
              "#d8576b"
             ],
             [
              0.6666666666666666,
              "#ed7953"
             ],
             [
              0.7777777777777778,
              "#fb9f3a"
             ],
             [
              0.8888888888888888,
              "#fdca26"
             ],
             [
              1,
              "#f0f921"
             ]
            ],
            "type": "surface"
           }
          ],
          "table": [
           {
            "cells": {
             "fill": {
              "color": "#EBF0F8"
             },
             "line": {
              "color": "white"
             }
            },
            "header": {
             "fill": {
              "color": "#C8D4E3"
             },
             "line": {
              "color": "white"
             }
            },
            "type": "table"
           }
          ]
         },
         "layout": {
          "annotationdefaults": {
           "arrowcolor": "#2a3f5f",
           "arrowhead": 0,
           "arrowwidth": 1
          },
          "autotypenumbers": "strict",
          "coloraxis": {
           "colorbar": {
            "outlinewidth": 0,
            "ticks": ""
           }
          },
          "colorscale": {
           "diverging": [
            [
             0,
             "#8e0152"
            ],
            [
             0.1,
             "#c51b7d"
            ],
            [
             0.2,
             "#de77ae"
            ],
            [
             0.3,
             "#f1b6da"
            ],
            [
             0.4,
             "#fde0ef"
            ],
            [
             0.5,
             "#f7f7f7"
            ],
            [
             0.6,
             "#e6f5d0"
            ],
            [
             0.7,
             "#b8e186"
            ],
            [
             0.8,
             "#7fbc41"
            ],
            [
             0.9,
             "#4d9221"
            ],
            [
             1,
             "#276419"
            ]
           ],
           "sequential": [
            [
             0,
             "#0d0887"
            ],
            [
             0.1111111111111111,
             "#46039f"
            ],
            [
             0.2222222222222222,
             "#7201a8"
            ],
            [
             0.3333333333333333,
             "#9c179e"
            ],
            [
             0.4444444444444444,
             "#bd3786"
            ],
            [
             0.5555555555555556,
             "#d8576b"
            ],
            [
             0.6666666666666666,
             "#ed7953"
            ],
            [
             0.7777777777777778,
             "#fb9f3a"
            ],
            [
             0.8888888888888888,
             "#fdca26"
            ],
            [
             1,
             "#f0f921"
            ]
           ],
           "sequentialminus": [
            [
             0,
             "#0d0887"
            ],
            [
             0.1111111111111111,
             "#46039f"
            ],
            [
             0.2222222222222222,
             "#7201a8"
            ],
            [
             0.3333333333333333,
             "#9c179e"
            ],
            [
             0.4444444444444444,
             "#bd3786"
            ],
            [
             0.5555555555555556,
             "#d8576b"
            ],
            [
             0.6666666666666666,
             "#ed7953"
            ],
            [
             0.7777777777777778,
             "#fb9f3a"
            ],
            [
             0.8888888888888888,
             "#fdca26"
            ],
            [
             1,
             "#f0f921"
            ]
           ]
          },
          "colorway": [
           "#636efa",
           "#EF553B",
           "#00cc96",
           "#ab63fa",
           "#FFA15A",
           "#19d3f3",
           "#FF6692",
           "#B6E880",
           "#FF97FF",
           "#FECB52"
          ],
          "font": {
           "color": "#2a3f5f"
          },
          "geo": {
           "bgcolor": "white",
           "lakecolor": "white",
           "landcolor": "#E5ECF6",
           "showlakes": true,
           "showland": true,
           "subunitcolor": "white"
          },
          "hoverlabel": {
           "align": "left"
          },
          "hovermode": "closest",
          "mapbox": {
           "style": "light"
          },
          "paper_bgcolor": "white",
          "plot_bgcolor": "#E5ECF6",
          "polar": {
           "angularaxis": {
            "gridcolor": "white",
            "linecolor": "white",
            "ticks": ""
           },
           "bgcolor": "#E5ECF6",
           "radialaxis": {
            "gridcolor": "white",
            "linecolor": "white",
            "ticks": ""
           }
          },
          "scene": {
           "xaxis": {
            "backgroundcolor": "#E5ECF6",
            "gridcolor": "white",
            "gridwidth": 2,
            "linecolor": "white",
            "showbackground": true,
            "ticks": "",
            "zerolinecolor": "white"
           },
           "yaxis": {
            "backgroundcolor": "#E5ECF6",
            "gridcolor": "white",
            "gridwidth": 2,
            "linecolor": "white",
            "showbackground": true,
            "ticks": "",
            "zerolinecolor": "white"
           },
           "zaxis": {
            "backgroundcolor": "#E5ECF6",
            "gridcolor": "white",
            "gridwidth": 2,
            "linecolor": "white",
            "showbackground": true,
            "ticks": "",
            "zerolinecolor": "white"
           }
          },
          "shapedefaults": {
           "line": {
            "color": "#2a3f5f"
           }
          },
          "ternary": {
           "aaxis": {
            "gridcolor": "white",
            "linecolor": "white",
            "ticks": ""
           },
           "baxis": {
            "gridcolor": "white",
            "linecolor": "white",
            "ticks": ""
           },
           "bgcolor": "#E5ECF6",
           "caxis": {
            "gridcolor": "white",
            "linecolor": "white",
            "ticks": ""
           }
          },
          "title": {
           "x": 0.05
          },
          "xaxis": {
           "automargin": true,
           "gridcolor": "white",
           "linecolor": "white",
           "ticks": "",
           "title": {
            "standoff": 15
           },
           "zerolinecolor": "white",
           "zerolinewidth": 2
          },
          "yaxis": {
           "automargin": true,
           "gridcolor": "white",
           "linecolor": "white",
           "ticks": "",
           "title": {
            "standoff": 15
           },
           "zerolinecolor": "white",
           "zerolinewidth": 2
          }
         }
        },
        "title": {
         "text": "SU Contingency Total $Balance over Time (Since 2016)"
        },
        "xaxis": {
         "anchor": "y",
         "domain": [
          0,
          1
         ],
         "title": {
          "text": "Date"
         }
        },
        "yaxis": {
         "anchor": "x",
         "domain": [
          0,
          1
         ],
         "title": {
          "text": "Available Balance After"
         }
        }
       }
      }
     },
     "metadata": {},
     "output_type": "display_data"
    }
   ],
   "source": [
    "full_allocation_balance = Non_Admin_Contin.groupby('Date')['Available Balance After'].agg('min').reset_index()\n",
    "fig_2 = px.line(full_allocation_balance, x=\"Date\", y=\"Available Balance After\", title='SU Contingency Total $Balance over Time (Since 2016)')\n",
    "fig_2.show()"
   ]
  },
  {
   "cell_type": "code",
   "execution_count": 17,
   "metadata": {},
   "outputs": [
    {
     "data": {
      "application/vnd.plotly.v1+json": {
       "config": {
        "plotlyServerURL": "https://plot.ly"
       },
       "data": [
        {
         "hovertemplate": "Date=%{x}<br>Amount=%{y}<extra></extra>",
         "legendgroup": "",
         "line": {
          "color": "#636efa",
          "dash": "solid"
         },
         "marker": {
          "symbol": "circle"
         },
         "mode": "lines",
         "name": "",
         "orientation": "v",
         "showlegend": false,
         "type": "scatter",
         "x": [
          "2023-09-21T00:00:00",
          "2023-09-28T00:00:00",
          "2023-09-29T00:00:00",
          "2023-10-06T00:00:00",
          "2023-10-19T00:00:00",
          "2023-10-31T00:00:00",
          "2023-11-06T00:00:00",
          "2023-11-11T00:00:00",
          "2023-11-17T00:00:00",
          "2023-12-04T00:00:00",
          "2024-01-25T00:00:00",
          "2024-02-01T00:00:00",
          "2024-02-06T00:00:00",
          "2024-02-08T00:00:00",
          "2024-02-15T00:00:00",
          "2024-03-01T00:00:00",
          "2024-03-07T00:00:00",
          "2024-03-15T00:00:00",
          "2024-03-27T00:00:00",
          "2024-04-13T00:00:00",
          "2024-04-23T00:00:00",
          "2024-04-28T00:00:00"
         ],
         "xaxis": "x",
         "y": [
          2100,
          674.8,
          0,
          4570,
          6313.28,
          18882.37,
          1977.52,
          3850,
          946,
          1870,
          700,
          1558.96,
          3000,
          2101.05,
          2236,
          1432.69,
          4330.16,
          2428.9,
          9325.14,
          8765.28,
          2950,
          2428.52
         ],
         "yaxis": "y"
        }
       ],
       "layout": {
        "legend": {
         "tracegroupgap": 0
        },
        "template": {
         "data": {
          "bar": [
           {
            "error_x": {
             "color": "#2a3f5f"
            },
            "error_y": {
             "color": "#2a3f5f"
            },
            "marker": {
             "line": {
              "color": "#E5ECF6",
              "width": 0.5
             },
             "pattern": {
              "fillmode": "overlay",
              "size": 10,
              "solidity": 0.2
             }
            },
            "type": "bar"
           }
          ],
          "barpolar": [
           {
            "marker": {
             "line": {
              "color": "#E5ECF6",
              "width": 0.5
             },
             "pattern": {
              "fillmode": "overlay",
              "size": 10,
              "solidity": 0.2
             }
            },
            "type": "barpolar"
           }
          ],
          "carpet": [
           {
            "aaxis": {
             "endlinecolor": "#2a3f5f",
             "gridcolor": "white",
             "linecolor": "white",
             "minorgridcolor": "white",
             "startlinecolor": "#2a3f5f"
            },
            "baxis": {
             "endlinecolor": "#2a3f5f",
             "gridcolor": "white",
             "linecolor": "white",
             "minorgridcolor": "white",
             "startlinecolor": "#2a3f5f"
            },
            "type": "carpet"
           }
          ],
          "choropleth": [
           {
            "colorbar": {
             "outlinewidth": 0,
             "ticks": ""
            },
            "type": "choropleth"
           }
          ],
          "contour": [
           {
            "colorbar": {
             "outlinewidth": 0,
             "ticks": ""
            },
            "colorscale": [
             [
              0,
              "#0d0887"
             ],
             [
              0.1111111111111111,
              "#46039f"
             ],
             [
              0.2222222222222222,
              "#7201a8"
             ],
             [
              0.3333333333333333,
              "#9c179e"
             ],
             [
              0.4444444444444444,
              "#bd3786"
             ],
             [
              0.5555555555555556,
              "#d8576b"
             ],
             [
              0.6666666666666666,
              "#ed7953"
             ],
             [
              0.7777777777777778,
              "#fb9f3a"
             ],
             [
              0.8888888888888888,
              "#fdca26"
             ],
             [
              1,
              "#f0f921"
             ]
            ],
            "type": "contour"
           }
          ],
          "contourcarpet": [
           {
            "colorbar": {
             "outlinewidth": 0,
             "ticks": ""
            },
            "type": "contourcarpet"
           }
          ],
          "heatmap": [
           {
            "colorbar": {
             "outlinewidth": 0,
             "ticks": ""
            },
            "colorscale": [
             [
              0,
              "#0d0887"
             ],
             [
              0.1111111111111111,
              "#46039f"
             ],
             [
              0.2222222222222222,
              "#7201a8"
             ],
             [
              0.3333333333333333,
              "#9c179e"
             ],
             [
              0.4444444444444444,
              "#bd3786"
             ],
             [
              0.5555555555555556,
              "#d8576b"
             ],
             [
              0.6666666666666666,
              "#ed7953"
             ],
             [
              0.7777777777777778,
              "#fb9f3a"
             ],
             [
              0.8888888888888888,
              "#fdca26"
             ],
             [
              1,
              "#f0f921"
             ]
            ],
            "type": "heatmap"
           }
          ],
          "heatmapgl": [
           {
            "colorbar": {
             "outlinewidth": 0,
             "ticks": ""
            },
            "colorscale": [
             [
              0,
              "#0d0887"
             ],
             [
              0.1111111111111111,
              "#46039f"
             ],
             [
              0.2222222222222222,
              "#7201a8"
             ],
             [
              0.3333333333333333,
              "#9c179e"
             ],
             [
              0.4444444444444444,
              "#bd3786"
             ],
             [
              0.5555555555555556,
              "#d8576b"
             ],
             [
              0.6666666666666666,
              "#ed7953"
             ],
             [
              0.7777777777777778,
              "#fb9f3a"
             ],
             [
              0.8888888888888888,
              "#fdca26"
             ],
             [
              1,
              "#f0f921"
             ]
            ],
            "type": "heatmapgl"
           }
          ],
          "histogram": [
           {
            "marker": {
             "pattern": {
              "fillmode": "overlay",
              "size": 10,
              "solidity": 0.2
             }
            },
            "type": "histogram"
           }
          ],
          "histogram2d": [
           {
            "colorbar": {
             "outlinewidth": 0,
             "ticks": ""
            },
            "colorscale": [
             [
              0,
              "#0d0887"
             ],
             [
              0.1111111111111111,
              "#46039f"
             ],
             [
              0.2222222222222222,
              "#7201a8"
             ],
             [
              0.3333333333333333,
              "#9c179e"
             ],
             [
              0.4444444444444444,
              "#bd3786"
             ],
             [
              0.5555555555555556,
              "#d8576b"
             ],
             [
              0.6666666666666666,
              "#ed7953"
             ],
             [
              0.7777777777777778,
              "#fb9f3a"
             ],
             [
              0.8888888888888888,
              "#fdca26"
             ],
             [
              1,
              "#f0f921"
             ]
            ],
            "type": "histogram2d"
           }
          ],
          "histogram2dcontour": [
           {
            "colorbar": {
             "outlinewidth": 0,
             "ticks": ""
            },
            "colorscale": [
             [
              0,
              "#0d0887"
             ],
             [
              0.1111111111111111,
              "#46039f"
             ],
             [
              0.2222222222222222,
              "#7201a8"
             ],
             [
              0.3333333333333333,
              "#9c179e"
             ],
             [
              0.4444444444444444,
              "#bd3786"
             ],
             [
              0.5555555555555556,
              "#d8576b"
             ],
             [
              0.6666666666666666,
              "#ed7953"
             ],
             [
              0.7777777777777778,
              "#fb9f3a"
             ],
             [
              0.8888888888888888,
              "#fdca26"
             ],
             [
              1,
              "#f0f921"
             ]
            ],
            "type": "histogram2dcontour"
           }
          ],
          "mesh3d": [
           {
            "colorbar": {
             "outlinewidth": 0,
             "ticks": ""
            },
            "type": "mesh3d"
           }
          ],
          "parcoords": [
           {
            "line": {
             "colorbar": {
              "outlinewidth": 0,
              "ticks": ""
             }
            },
            "type": "parcoords"
           }
          ],
          "pie": [
           {
            "automargin": true,
            "type": "pie"
           }
          ],
          "scatter": [
           {
            "fillpattern": {
             "fillmode": "overlay",
             "size": 10,
             "solidity": 0.2
            },
            "type": "scatter"
           }
          ],
          "scatter3d": [
           {
            "line": {
             "colorbar": {
              "outlinewidth": 0,
              "ticks": ""
             }
            },
            "marker": {
             "colorbar": {
              "outlinewidth": 0,
              "ticks": ""
             }
            },
            "type": "scatter3d"
           }
          ],
          "scattercarpet": [
           {
            "marker": {
             "colorbar": {
              "outlinewidth": 0,
              "ticks": ""
             }
            },
            "type": "scattercarpet"
           }
          ],
          "scattergeo": [
           {
            "marker": {
             "colorbar": {
              "outlinewidth": 0,
              "ticks": ""
             }
            },
            "type": "scattergeo"
           }
          ],
          "scattergl": [
           {
            "marker": {
             "colorbar": {
              "outlinewidth": 0,
              "ticks": ""
             }
            },
            "type": "scattergl"
           }
          ],
          "scattermapbox": [
           {
            "marker": {
             "colorbar": {
              "outlinewidth": 0,
              "ticks": ""
             }
            },
            "type": "scattermapbox"
           }
          ],
          "scatterpolar": [
           {
            "marker": {
             "colorbar": {
              "outlinewidth": 0,
              "ticks": ""
             }
            },
            "type": "scatterpolar"
           }
          ],
          "scatterpolargl": [
           {
            "marker": {
             "colorbar": {
              "outlinewidth": 0,
              "ticks": ""
             }
            },
            "type": "scatterpolargl"
           }
          ],
          "scatterternary": [
           {
            "marker": {
             "colorbar": {
              "outlinewidth": 0,
              "ticks": ""
             }
            },
            "type": "scatterternary"
           }
          ],
          "surface": [
           {
            "colorbar": {
             "outlinewidth": 0,
             "ticks": ""
            },
            "colorscale": [
             [
              0,
              "#0d0887"
             ],
             [
              0.1111111111111111,
              "#46039f"
             ],
             [
              0.2222222222222222,
              "#7201a8"
             ],
             [
              0.3333333333333333,
              "#9c179e"
             ],
             [
              0.4444444444444444,
              "#bd3786"
             ],
             [
              0.5555555555555556,
              "#d8576b"
             ],
             [
              0.6666666666666666,
              "#ed7953"
             ],
             [
              0.7777777777777778,
              "#fb9f3a"
             ],
             [
              0.8888888888888888,
              "#fdca26"
             ],
             [
              1,
              "#f0f921"
             ]
            ],
            "type": "surface"
           }
          ],
          "table": [
           {
            "cells": {
             "fill": {
              "color": "#EBF0F8"
             },
             "line": {
              "color": "white"
             }
            },
            "header": {
             "fill": {
              "color": "#C8D4E3"
             },
             "line": {
              "color": "white"
             }
            },
            "type": "table"
           }
          ]
         },
         "layout": {
          "annotationdefaults": {
           "arrowcolor": "#2a3f5f",
           "arrowhead": 0,
           "arrowwidth": 1
          },
          "autotypenumbers": "strict",
          "coloraxis": {
           "colorbar": {
            "outlinewidth": 0,
            "ticks": ""
           }
          },
          "colorscale": {
           "diverging": [
            [
             0,
             "#8e0152"
            ],
            [
             0.1,
             "#c51b7d"
            ],
            [
             0.2,
             "#de77ae"
            ],
            [
             0.3,
             "#f1b6da"
            ],
            [
             0.4,
             "#fde0ef"
            ],
            [
             0.5,
             "#f7f7f7"
            ],
            [
             0.6,
             "#e6f5d0"
            ],
            [
             0.7,
             "#b8e186"
            ],
            [
             0.8,
             "#7fbc41"
            ],
            [
             0.9,
             "#4d9221"
            ],
            [
             1,
             "#276419"
            ]
           ],
           "sequential": [
            [
             0,
             "#0d0887"
            ],
            [
             0.1111111111111111,
             "#46039f"
            ],
            [
             0.2222222222222222,
             "#7201a8"
            ],
            [
             0.3333333333333333,
             "#9c179e"
            ],
            [
             0.4444444444444444,
             "#bd3786"
            ],
            [
             0.5555555555555556,
             "#d8576b"
            ],
            [
             0.6666666666666666,
             "#ed7953"
            ],
            [
             0.7777777777777778,
             "#fb9f3a"
            ],
            [
             0.8888888888888888,
             "#fdca26"
            ],
            [
             1,
             "#f0f921"
            ]
           ],
           "sequentialminus": [
            [
             0,
             "#0d0887"
            ],
            [
             0.1111111111111111,
             "#46039f"
            ],
            [
             0.2222222222222222,
             "#7201a8"
            ],
            [
             0.3333333333333333,
             "#9c179e"
            ],
            [
             0.4444444444444444,
             "#bd3786"
            ],
            [
             0.5555555555555556,
             "#d8576b"
            ],
            [
             0.6666666666666666,
             "#ed7953"
            ],
            [
             0.7777777777777778,
             "#fb9f3a"
            ],
            [
             0.8888888888888888,
             "#fdca26"
            ],
            [
             1,
             "#f0f921"
            ]
           ]
          },
          "colorway": [
           "#636efa",
           "#EF553B",
           "#00cc96",
           "#ab63fa",
           "#FFA15A",
           "#19d3f3",
           "#FF6692",
           "#B6E880",
           "#FF97FF",
           "#FECB52"
          ],
          "font": {
           "color": "#2a3f5f"
          },
          "geo": {
           "bgcolor": "white",
           "lakecolor": "white",
           "landcolor": "#E5ECF6",
           "showlakes": true,
           "showland": true,
           "subunitcolor": "white"
          },
          "hoverlabel": {
           "align": "left"
          },
          "hovermode": "closest",
          "mapbox": {
           "style": "light"
          },
          "paper_bgcolor": "white",
          "plot_bgcolor": "#E5ECF6",
          "polar": {
           "angularaxis": {
            "gridcolor": "white",
            "linecolor": "white",
            "ticks": ""
           },
           "bgcolor": "#E5ECF6",
           "radialaxis": {
            "gridcolor": "white",
            "linecolor": "white",
            "ticks": ""
           }
          },
          "scene": {
           "xaxis": {
            "backgroundcolor": "#E5ECF6",
            "gridcolor": "white",
            "gridwidth": 2,
            "linecolor": "white",
            "showbackground": true,
            "ticks": "",
            "zerolinecolor": "white"
           },
           "yaxis": {
            "backgroundcolor": "#E5ECF6",
            "gridcolor": "white",
            "gridwidth": 2,
            "linecolor": "white",
            "showbackground": true,
            "ticks": "",
            "zerolinecolor": "white"
           },
           "zaxis": {
            "backgroundcolor": "#E5ECF6",
            "gridcolor": "white",
            "gridwidth": 2,
            "linecolor": "white",
            "showbackground": true,
            "ticks": "",
            "zerolinecolor": "white"
           }
          },
          "shapedefaults": {
           "line": {
            "color": "#2a3f5f"
           }
          },
          "ternary": {
           "aaxis": {
            "gridcolor": "white",
            "linecolor": "white",
            "ticks": ""
           },
           "baxis": {
            "gridcolor": "white",
            "linecolor": "white",
            "ticks": ""
           },
           "bgcolor": "#E5ECF6",
           "caxis": {
            "gridcolor": "white",
            "linecolor": "white",
            "ticks": ""
           }
          },
          "title": {
           "x": 0.05
          },
          "xaxis": {
           "automargin": true,
           "gridcolor": "white",
           "linecolor": "white",
           "ticks": "",
           "title": {
            "standoff": 15
           },
           "zerolinecolor": "white",
           "zerolinewidth": 2
          },
          "yaxis": {
           "automargin": true,
           "gridcolor": "white",
           "linecolor": "white",
           "ticks": "",
           "title": {
            "standoff": 15
           },
           "zerolinecolor": "white",
           "zerolinewidth": 2
          }
         }
        },
        "title": {
         "text": "SU Contingency $Amt Allocations over Time (FY24)"
        },
        "xaxis": {
         "anchor": "y",
         "domain": [
          0,
          1
         ],
         "title": {
          "text": "Date"
         }
        },
        "yaxis": {
         "anchor": "x",
         "domain": [
          0,
          1
         ],
         "title": {
          "text": "Amount"
         }
        }
       }
      }
     },
     "metadata": {},
     "output_type": "display_data"
    }
   ],
   "source": [
    "allocation_amounts = Non_Admin_Contin2324[Non_Admin_Contin2324['Admin'] == 0].groupby('Date')['Amount'].agg('sum').reset_index()\n",
    "fig_3 = px.line(allocation_amounts, x=\"Date\", y=\"Amount\", title='SU Contingency $Amt Allocations over Time (FY24)')\n",
    "fig_3.show()"
   ]
  },
  {
   "cell_type": "code",
   "execution_count": 18,
   "metadata": {},
   "outputs": [
    {
     "data": {
      "application/vnd.plotly.v1+json": {
       "config": {
        "plotlyServerURL": "https://plot.ly"
       },
       "data": [
        {
         "hovertemplate": "Date=%{x}<br>Amount=%{y}<extra></extra>",
         "legendgroup": "",
         "line": {
          "color": "#636efa",
          "dash": "solid"
         },
         "marker": {
          "symbol": "circle"
         },
         "mode": "lines",
         "name": "",
         "orientation": "v",
         "showlegend": false,
         "type": "scatter",
         "x": [
          "2016-10-06T00:00:00",
          "2016-10-14T00:00:00",
          "2016-10-31T00:00:00",
          "2016-11-03T00:00:00",
          "2016-11-07T00:00:00",
          "2016-11-14T00:00:00",
          "2016-11-16T00:00:00",
          "2016-11-18T00:00:00",
          "2016-12-08T00:00:00",
          "2016-12-09T00:00:00",
          "2017-01-06T00:00:00",
          "2017-01-27T00:00:00",
          "2017-02-10T00:00:00",
          "2017-02-16T00:00:00",
          "2017-03-03T00:00:00",
          "2017-03-13T00:00:00",
          "2017-03-16T00:00:00",
          "2017-04-12T00:00:00",
          "2017-09-25T00:00:00",
          "2017-10-03T00:00:00",
          "2017-10-05T00:00:00",
          "2017-10-19T00:00:00",
          "2017-10-26T00:00:00",
          "2017-11-02T00:00:00",
          "2017-11-13T00:00:00",
          "2017-11-16T00:00:00",
          "2017-11-30T00:00:00",
          "2018-02-01T00:00:00",
          "2018-02-08T00:00:00",
          "2018-02-15T00:00:00",
          "2018-03-02T00:00:00",
          "2018-03-08T00:00:00",
          "2018-03-15T00:00:00",
          "2018-03-22T00:00:00",
          "2018-04-09T00:00:00",
          "2018-10-11T00:00:00",
          "2018-10-22T00:00:00",
          "2018-10-30T00:00:00",
          "2018-11-02T00:00:00",
          "2018-11-08T00:00:00",
          "2018-11-29T00:00:00",
          "2019-02-01T00:00:00",
          "2019-02-07T00:00:00",
          "2019-02-14T00:00:00",
          "2019-03-07T00:00:00",
          "2019-03-14T00:00:00",
          "2019-03-21T00:00:00",
          "2019-04-18T00:00:00",
          "2019-04-25T00:00:00",
          "2019-05-02T00:00:00",
          "2019-09-19T00:00:00",
          "2019-09-26T00:00:00",
          "2019-10-03T00:00:00",
          "2019-10-08T00:00:00",
          "2019-10-15T00:00:00",
          "2019-10-17T00:00:00",
          "2019-10-24T00:00:00",
          "2019-11-15T00:00:00",
          "2019-11-21T00:00:00",
          "2019-12-16T00:00:00",
          "2020-01-31T00:00:00",
          "2020-02-10T00:00:00",
          "2020-02-13T00:00:00",
          "2020-02-27T00:00:00",
          "2020-03-30T00:00:00",
          "2020-04-01T00:00:00",
          "2020-04-04T00:00:00",
          "2020-04-06T00:00:00",
          "2020-10-05T00:00:00",
          "2020-10-16T00:00:00",
          "2020-10-30T00:00:00",
          "2020-12-07T00:00:00",
          "2021-02-03T00:00:00",
          "2021-02-05T00:00:00",
          "2021-02-12T00:00:00",
          "2021-02-25T00:00:00",
          "2021-03-12T00:00:00",
          "2021-04-02T00:00:00",
          "2021-04-09T00:00:00",
          "2021-04-16T00:00:00",
          "2021-04-23T00:00:00",
          "2021-04-30T00:00:00",
          "2021-10-18T00:00:00",
          "2021-10-19T00:00:00",
          "2021-10-21T00:00:00",
          "2021-10-28T00:00:00",
          "2021-11-04T00:00:00",
          "2021-11-12T00:00:00",
          "2021-11-19T00:00:00",
          "2022-01-26T00:00:00",
          "2022-01-27T00:00:00",
          "2022-02-03T00:00:00",
          "2022-02-10T00:00:00",
          "2022-03-04T00:00:00",
          "2022-03-10T00:00:00",
          "2022-03-15T00:00:00",
          "2022-03-29T00:00:00",
          "2022-03-31T00:00:00",
          "2022-04-11T00:00:00",
          "2022-04-15T00:00:00",
          "2022-04-22T00:00:00",
          "2022-04-28T00:00:00",
          "2022-05-13T00:00:00",
          "2022-09-23T00:00:00",
          "2022-09-30T00:00:00",
          "2022-10-05T00:00:00",
          "2022-10-21T00:00:00",
          "2022-10-27T00:00:00",
          "2022-10-28T00:00:00",
          "2022-11-04T00:00:00",
          "2022-11-10T00:00:00",
          "2022-11-29T00:00:00",
          "2022-12-01T00:00:00",
          "2022-12-28T00:00:00",
          "2023-01-11T00:00:00",
          "2023-01-26T00:00:00",
          "2023-02-03T00:00:00",
          "2023-02-10T00:00:00",
          "2023-02-16T00:00:00",
          "2023-03-02T00:00:00",
          "2023-03-09T00:00:00",
          "2023-03-16T00:00:00",
          "2023-03-24T00:00:00",
          "2023-04-10T00:00:00",
          "2023-04-13T00:00:00",
          "2023-04-21T00:00:00",
          "2023-04-24T00:00:00",
          "2023-04-27T00:00:00",
          "2023-09-21T00:00:00",
          "2023-09-28T00:00:00",
          "2023-09-29T00:00:00",
          "2023-10-06T00:00:00",
          "2023-10-19T00:00:00",
          "2023-10-31T00:00:00",
          "2023-11-06T00:00:00",
          "2023-11-11T00:00:00",
          "2023-11-17T00:00:00",
          "2023-12-04T00:00:00",
          "2024-01-25T00:00:00",
          "2024-02-01T00:00:00",
          "2024-02-06T00:00:00",
          "2024-02-08T00:00:00",
          "2024-02-15T00:00:00",
          "2024-03-01T00:00:00",
          "2024-03-07T00:00:00",
          "2024-03-15T00:00:00",
          "2024-03-27T00:00:00",
          "2024-04-13T00:00:00",
          "2024-04-23T00:00:00",
          "2024-04-28T00:00:00"
         ],
         "xaxis": "x",
         "y": [
          4220,
          2100,
          3450,
          3850,
          570,
          1494.75,
          2669,
          2850,
          705,
          1600,
          1100,
          1959.26,
          2412.83,
          250,
          3400,
          3675,
          4737,
          4950,
          1200,
          1665,
          1405.5,
          2100,
          4434,
          1880,
          2750,
          900,
          2300,
          1521,
          2000,
          1881,
          1321.8,
          1655,
          2300,
          5800,
          1373,
          1120,
          13900,
          795,
          617.5,
          1899,
          675,
          975,
          972.98,
          200,
          1140,
          1500,
          1500,
          1370.7,
          1000,
          976.73,
          392,
          91685,
          1600,
          0,
          1276,
          300,
          2500,
          3500,
          4367,
          960,
          1200,
          4600,
          2157,
          1900,
          6133,
          17870,
          5254,
          5000,
          820,
          1485,
          1500,
          1969.37,
          815,
          20,
          30,
          500,
          427.97,
          31,
          1625,
          972.94,
          420.06,
          1701.6,
          400,
          2500,
          5256.26,
          1400,
          911.05,
          2300,
          6529.15,
          4596,
          2092.22,
          2995.88,
          300,
          2374.24,
          3880,
          769.98,
          1200,
          2227,
          6300,
          3150,
          6486.2,
          1500,
          400,
          1770,
          1617,
          3690.85,
          900,
          5044,
          18185,
          7500,
          6869.889999999999,
          1271.84,
          8475.3,
          500,
          10381.51,
          4989.8,
          2269.5,
          7156.38,
          4328,
          6960.88,
          3250,
          6100,
          1000,
          3600,
          4800,
          4220,
          0,
          1330.87,
          2100,
          674.8,
          0,
          4570,
          6313.28,
          18882.37,
          1977.52,
          3850,
          946,
          1870,
          700,
          1558.96,
          3000,
          2101.05,
          2236,
          1432.69,
          4330.16,
          2428.9,
          9325.14,
          8765.28,
          2950,
          2428.52
         ],
         "yaxis": "y"
        }
       ],
       "layout": {
        "legend": {
         "tracegroupgap": 0
        },
        "template": {
         "data": {
          "bar": [
           {
            "error_x": {
             "color": "#2a3f5f"
            },
            "error_y": {
             "color": "#2a3f5f"
            },
            "marker": {
             "line": {
              "color": "#E5ECF6",
              "width": 0.5
             },
             "pattern": {
              "fillmode": "overlay",
              "size": 10,
              "solidity": 0.2
             }
            },
            "type": "bar"
           }
          ],
          "barpolar": [
           {
            "marker": {
             "line": {
              "color": "#E5ECF6",
              "width": 0.5
             },
             "pattern": {
              "fillmode": "overlay",
              "size": 10,
              "solidity": 0.2
             }
            },
            "type": "barpolar"
           }
          ],
          "carpet": [
           {
            "aaxis": {
             "endlinecolor": "#2a3f5f",
             "gridcolor": "white",
             "linecolor": "white",
             "minorgridcolor": "white",
             "startlinecolor": "#2a3f5f"
            },
            "baxis": {
             "endlinecolor": "#2a3f5f",
             "gridcolor": "white",
             "linecolor": "white",
             "minorgridcolor": "white",
             "startlinecolor": "#2a3f5f"
            },
            "type": "carpet"
           }
          ],
          "choropleth": [
           {
            "colorbar": {
             "outlinewidth": 0,
             "ticks": ""
            },
            "type": "choropleth"
           }
          ],
          "contour": [
           {
            "colorbar": {
             "outlinewidth": 0,
             "ticks": ""
            },
            "colorscale": [
             [
              0,
              "#0d0887"
             ],
             [
              0.1111111111111111,
              "#46039f"
             ],
             [
              0.2222222222222222,
              "#7201a8"
             ],
             [
              0.3333333333333333,
              "#9c179e"
             ],
             [
              0.4444444444444444,
              "#bd3786"
             ],
             [
              0.5555555555555556,
              "#d8576b"
             ],
             [
              0.6666666666666666,
              "#ed7953"
             ],
             [
              0.7777777777777778,
              "#fb9f3a"
             ],
             [
              0.8888888888888888,
              "#fdca26"
             ],
             [
              1,
              "#f0f921"
             ]
            ],
            "type": "contour"
           }
          ],
          "contourcarpet": [
           {
            "colorbar": {
             "outlinewidth": 0,
             "ticks": ""
            },
            "type": "contourcarpet"
           }
          ],
          "heatmap": [
           {
            "colorbar": {
             "outlinewidth": 0,
             "ticks": ""
            },
            "colorscale": [
             [
              0,
              "#0d0887"
             ],
             [
              0.1111111111111111,
              "#46039f"
             ],
             [
              0.2222222222222222,
              "#7201a8"
             ],
             [
              0.3333333333333333,
              "#9c179e"
             ],
             [
              0.4444444444444444,
              "#bd3786"
             ],
             [
              0.5555555555555556,
              "#d8576b"
             ],
             [
              0.6666666666666666,
              "#ed7953"
             ],
             [
              0.7777777777777778,
              "#fb9f3a"
             ],
             [
              0.8888888888888888,
              "#fdca26"
             ],
             [
              1,
              "#f0f921"
             ]
            ],
            "type": "heatmap"
           }
          ],
          "heatmapgl": [
           {
            "colorbar": {
             "outlinewidth": 0,
             "ticks": ""
            },
            "colorscale": [
             [
              0,
              "#0d0887"
             ],
             [
              0.1111111111111111,
              "#46039f"
             ],
             [
              0.2222222222222222,
              "#7201a8"
             ],
             [
              0.3333333333333333,
              "#9c179e"
             ],
             [
              0.4444444444444444,
              "#bd3786"
             ],
             [
              0.5555555555555556,
              "#d8576b"
             ],
             [
              0.6666666666666666,
              "#ed7953"
             ],
             [
              0.7777777777777778,
              "#fb9f3a"
             ],
             [
              0.8888888888888888,
              "#fdca26"
             ],
             [
              1,
              "#f0f921"
             ]
            ],
            "type": "heatmapgl"
           }
          ],
          "histogram": [
           {
            "marker": {
             "pattern": {
              "fillmode": "overlay",
              "size": 10,
              "solidity": 0.2
             }
            },
            "type": "histogram"
           }
          ],
          "histogram2d": [
           {
            "colorbar": {
             "outlinewidth": 0,
             "ticks": ""
            },
            "colorscale": [
             [
              0,
              "#0d0887"
             ],
             [
              0.1111111111111111,
              "#46039f"
             ],
             [
              0.2222222222222222,
              "#7201a8"
             ],
             [
              0.3333333333333333,
              "#9c179e"
             ],
             [
              0.4444444444444444,
              "#bd3786"
             ],
             [
              0.5555555555555556,
              "#d8576b"
             ],
             [
              0.6666666666666666,
              "#ed7953"
             ],
             [
              0.7777777777777778,
              "#fb9f3a"
             ],
             [
              0.8888888888888888,
              "#fdca26"
             ],
             [
              1,
              "#f0f921"
             ]
            ],
            "type": "histogram2d"
           }
          ],
          "histogram2dcontour": [
           {
            "colorbar": {
             "outlinewidth": 0,
             "ticks": ""
            },
            "colorscale": [
             [
              0,
              "#0d0887"
             ],
             [
              0.1111111111111111,
              "#46039f"
             ],
             [
              0.2222222222222222,
              "#7201a8"
             ],
             [
              0.3333333333333333,
              "#9c179e"
             ],
             [
              0.4444444444444444,
              "#bd3786"
             ],
             [
              0.5555555555555556,
              "#d8576b"
             ],
             [
              0.6666666666666666,
              "#ed7953"
             ],
             [
              0.7777777777777778,
              "#fb9f3a"
             ],
             [
              0.8888888888888888,
              "#fdca26"
             ],
             [
              1,
              "#f0f921"
             ]
            ],
            "type": "histogram2dcontour"
           }
          ],
          "mesh3d": [
           {
            "colorbar": {
             "outlinewidth": 0,
             "ticks": ""
            },
            "type": "mesh3d"
           }
          ],
          "parcoords": [
           {
            "line": {
             "colorbar": {
              "outlinewidth": 0,
              "ticks": ""
             }
            },
            "type": "parcoords"
           }
          ],
          "pie": [
           {
            "automargin": true,
            "type": "pie"
           }
          ],
          "scatter": [
           {
            "fillpattern": {
             "fillmode": "overlay",
             "size": 10,
             "solidity": 0.2
            },
            "type": "scatter"
           }
          ],
          "scatter3d": [
           {
            "line": {
             "colorbar": {
              "outlinewidth": 0,
              "ticks": ""
             }
            },
            "marker": {
             "colorbar": {
              "outlinewidth": 0,
              "ticks": ""
             }
            },
            "type": "scatter3d"
           }
          ],
          "scattercarpet": [
           {
            "marker": {
             "colorbar": {
              "outlinewidth": 0,
              "ticks": ""
             }
            },
            "type": "scattercarpet"
           }
          ],
          "scattergeo": [
           {
            "marker": {
             "colorbar": {
              "outlinewidth": 0,
              "ticks": ""
             }
            },
            "type": "scattergeo"
           }
          ],
          "scattergl": [
           {
            "marker": {
             "colorbar": {
              "outlinewidth": 0,
              "ticks": ""
             }
            },
            "type": "scattergl"
           }
          ],
          "scattermapbox": [
           {
            "marker": {
             "colorbar": {
              "outlinewidth": 0,
              "ticks": ""
             }
            },
            "type": "scattermapbox"
           }
          ],
          "scatterpolar": [
           {
            "marker": {
             "colorbar": {
              "outlinewidth": 0,
              "ticks": ""
             }
            },
            "type": "scatterpolar"
           }
          ],
          "scatterpolargl": [
           {
            "marker": {
             "colorbar": {
              "outlinewidth": 0,
              "ticks": ""
             }
            },
            "type": "scatterpolargl"
           }
          ],
          "scatterternary": [
           {
            "marker": {
             "colorbar": {
              "outlinewidth": 0,
              "ticks": ""
             }
            },
            "type": "scatterternary"
           }
          ],
          "surface": [
           {
            "colorbar": {
             "outlinewidth": 0,
             "ticks": ""
            },
            "colorscale": [
             [
              0,
              "#0d0887"
             ],
             [
              0.1111111111111111,
              "#46039f"
             ],
             [
              0.2222222222222222,
              "#7201a8"
             ],
             [
              0.3333333333333333,
              "#9c179e"
             ],
             [
              0.4444444444444444,
              "#bd3786"
             ],
             [
              0.5555555555555556,
              "#d8576b"
             ],
             [
              0.6666666666666666,
              "#ed7953"
             ],
             [
              0.7777777777777778,
              "#fb9f3a"
             ],
             [
              0.8888888888888888,
              "#fdca26"
             ],
             [
              1,
              "#f0f921"
             ]
            ],
            "type": "surface"
           }
          ],
          "table": [
           {
            "cells": {
             "fill": {
              "color": "#EBF0F8"
             },
             "line": {
              "color": "white"
             }
            },
            "header": {
             "fill": {
              "color": "#C8D4E3"
             },
             "line": {
              "color": "white"
             }
            },
            "type": "table"
           }
          ]
         },
         "layout": {
          "annotationdefaults": {
           "arrowcolor": "#2a3f5f",
           "arrowhead": 0,
           "arrowwidth": 1
          },
          "autotypenumbers": "strict",
          "coloraxis": {
           "colorbar": {
            "outlinewidth": 0,
            "ticks": ""
           }
          },
          "colorscale": {
           "diverging": [
            [
             0,
             "#8e0152"
            ],
            [
             0.1,
             "#c51b7d"
            ],
            [
             0.2,
             "#de77ae"
            ],
            [
             0.3,
             "#f1b6da"
            ],
            [
             0.4,
             "#fde0ef"
            ],
            [
             0.5,
             "#f7f7f7"
            ],
            [
             0.6,
             "#e6f5d0"
            ],
            [
             0.7,
             "#b8e186"
            ],
            [
             0.8,
             "#7fbc41"
            ],
            [
             0.9,
             "#4d9221"
            ],
            [
             1,
             "#276419"
            ]
           ],
           "sequential": [
            [
             0,
             "#0d0887"
            ],
            [
             0.1111111111111111,
             "#46039f"
            ],
            [
             0.2222222222222222,
             "#7201a8"
            ],
            [
             0.3333333333333333,
             "#9c179e"
            ],
            [
             0.4444444444444444,
             "#bd3786"
            ],
            [
             0.5555555555555556,
             "#d8576b"
            ],
            [
             0.6666666666666666,
             "#ed7953"
            ],
            [
             0.7777777777777778,
             "#fb9f3a"
            ],
            [
             0.8888888888888888,
             "#fdca26"
            ],
            [
             1,
             "#f0f921"
            ]
           ],
           "sequentialminus": [
            [
             0,
             "#0d0887"
            ],
            [
             0.1111111111111111,
             "#46039f"
            ],
            [
             0.2222222222222222,
             "#7201a8"
            ],
            [
             0.3333333333333333,
             "#9c179e"
            ],
            [
             0.4444444444444444,
             "#bd3786"
            ],
            [
             0.5555555555555556,
             "#d8576b"
            ],
            [
             0.6666666666666666,
             "#ed7953"
            ],
            [
             0.7777777777777778,
             "#fb9f3a"
            ],
            [
             0.8888888888888888,
             "#fdca26"
            ],
            [
             1,
             "#f0f921"
            ]
           ]
          },
          "colorway": [
           "#636efa",
           "#EF553B",
           "#00cc96",
           "#ab63fa",
           "#FFA15A",
           "#19d3f3",
           "#FF6692",
           "#B6E880",
           "#FF97FF",
           "#FECB52"
          ],
          "font": {
           "color": "#2a3f5f"
          },
          "geo": {
           "bgcolor": "white",
           "lakecolor": "white",
           "landcolor": "#E5ECF6",
           "showlakes": true,
           "showland": true,
           "subunitcolor": "white"
          },
          "hoverlabel": {
           "align": "left"
          },
          "hovermode": "closest",
          "mapbox": {
           "style": "light"
          },
          "paper_bgcolor": "white",
          "plot_bgcolor": "#E5ECF6",
          "polar": {
           "angularaxis": {
            "gridcolor": "white",
            "linecolor": "white",
            "ticks": ""
           },
           "bgcolor": "#E5ECF6",
           "radialaxis": {
            "gridcolor": "white",
            "linecolor": "white",
            "ticks": ""
           }
          },
          "scene": {
           "xaxis": {
            "backgroundcolor": "#E5ECF6",
            "gridcolor": "white",
            "gridwidth": 2,
            "linecolor": "white",
            "showbackground": true,
            "ticks": "",
            "zerolinecolor": "white"
           },
           "yaxis": {
            "backgroundcolor": "#E5ECF6",
            "gridcolor": "white",
            "gridwidth": 2,
            "linecolor": "white",
            "showbackground": true,
            "ticks": "",
            "zerolinecolor": "white"
           },
           "zaxis": {
            "backgroundcolor": "#E5ECF6",
            "gridcolor": "white",
            "gridwidth": 2,
            "linecolor": "white",
            "showbackground": true,
            "ticks": "",
            "zerolinecolor": "white"
           }
          },
          "shapedefaults": {
           "line": {
            "color": "#2a3f5f"
           }
          },
          "ternary": {
           "aaxis": {
            "gridcolor": "white",
            "linecolor": "white",
            "ticks": ""
           },
           "baxis": {
            "gridcolor": "white",
            "linecolor": "white",
            "ticks": ""
           },
           "bgcolor": "#E5ECF6",
           "caxis": {
            "gridcolor": "white",
            "linecolor": "white",
            "ticks": ""
           }
          },
          "title": {
           "x": 0.05
          },
          "xaxis": {
           "automargin": true,
           "gridcolor": "white",
           "linecolor": "white",
           "ticks": "",
           "title": {
            "standoff": 15
           },
           "zerolinecolor": "white",
           "zerolinewidth": 2
          },
          "yaxis": {
           "automargin": true,
           "gridcolor": "white",
           "linecolor": "white",
           "ticks": "",
           "title": {
            "standoff": 15
           },
           "zerolinecolor": "white",
           "zerolinewidth": 2
          }
         }
        },
        "title": {
         "text": "SU Contingency Total $Amt Allocations over Time (Since 2016)"
        },
        "xaxis": {
         "anchor": "y",
         "domain": [
          0,
          1
         ],
         "title": {
          "text": "Date"
         }
        },
        "yaxis": {
         "anchor": "x",
         "domain": [
          0,
          1
         ],
         "title": {
          "text": "Amount"
         }
        }
       }
      }
     },
     "metadata": {},
     "output_type": "display_data"
    }
   ],
   "source": [
    "full_allocation_amounts = Non_Admin_Contin.groupby('Date')['Amount'].agg('sum').reset_index()\n",
    "fig_4 = px.line(full_allocation_amounts, x=\"Date\", y=\"Amount\", title='SU Contingency Total $Amt Allocations over Time (Since 2016)')\n",
    "fig_4.show()"
   ]
  },
  {
   "cell_type": "code",
   "execution_count": 19,
   "metadata": {},
   "outputs": [
    {
     "data": {
      "application/vnd.plotly.v1+json": {
       "config": {
        "plotlyServerURL": "https://plot.ly"
       },
       "data": [
        {
         "hovertemplate": "Date=%{x}<br>Amount=%{y}<extra></extra>",
         "legendgroup": "",
         "line": {
          "color": "#636efa",
          "dash": "solid"
         },
         "marker": {
          "symbol": "circle"
         },
         "mode": "lines",
         "name": "",
         "orientation": "v",
         "showlegend": false,
         "type": "scatter",
         "x": [
          "2016-10-06T00:00:00",
          "2016-10-14T00:00:00",
          "2016-10-31T00:00:00",
          "2016-11-03T00:00:00",
          "2016-11-07T00:00:00",
          "2016-11-14T00:00:00",
          "2016-11-16T00:00:00",
          "2016-11-18T00:00:00",
          "2016-12-08T00:00:00",
          "2016-12-09T00:00:00",
          "2017-01-06T00:00:00",
          "2017-01-27T00:00:00",
          "2017-02-10T00:00:00",
          "2017-02-16T00:00:00",
          "2017-03-03T00:00:00",
          "2017-03-13T00:00:00",
          "2017-03-16T00:00:00",
          "2017-04-12T00:00:00",
          "2017-09-25T00:00:00",
          "2017-10-03T00:00:00",
          "2017-10-05T00:00:00",
          "2017-10-19T00:00:00",
          "2017-10-26T00:00:00",
          "2017-11-02T00:00:00",
          "2017-11-13T00:00:00",
          "2017-11-16T00:00:00",
          "2017-11-30T00:00:00",
          "2018-02-01T00:00:00",
          "2018-02-08T00:00:00",
          "2018-02-15T00:00:00",
          "2018-03-02T00:00:00",
          "2018-03-08T00:00:00",
          "2018-03-15T00:00:00",
          "2018-03-22T00:00:00",
          "2018-04-09T00:00:00",
          "2018-10-11T00:00:00",
          "2018-10-22T00:00:00",
          "2018-10-30T00:00:00",
          "2018-11-02T00:00:00",
          "2018-11-08T00:00:00",
          "2018-11-29T00:00:00",
          "2019-02-01T00:00:00",
          "2019-02-07T00:00:00",
          "2019-02-14T00:00:00",
          "2019-03-07T00:00:00",
          "2019-03-14T00:00:00",
          "2019-03-21T00:00:00",
          "2019-04-18T00:00:00",
          "2019-04-25T00:00:00",
          "2019-05-02T00:00:00",
          "2019-09-19T00:00:00",
          "2019-10-03T00:00:00",
          "2019-10-08T00:00:00",
          "2019-10-15T00:00:00",
          "2019-10-17T00:00:00",
          "2019-10-24T00:00:00",
          "2019-11-15T00:00:00",
          "2019-11-21T00:00:00",
          "2019-12-16T00:00:00",
          "2020-01-31T00:00:00",
          "2020-02-10T00:00:00",
          "2020-02-13T00:00:00",
          "2020-02-27T00:00:00",
          "2020-03-30T00:00:00",
          "2020-04-01T00:00:00",
          "2020-04-04T00:00:00",
          "2020-04-06T00:00:00",
          "2020-10-05T00:00:00",
          "2020-10-16T00:00:00",
          "2020-10-30T00:00:00",
          "2020-12-07T00:00:00",
          "2021-02-03T00:00:00",
          "2021-02-05T00:00:00",
          "2021-02-12T00:00:00",
          "2021-02-25T00:00:00",
          "2021-03-12T00:00:00",
          "2021-04-02T00:00:00",
          "2021-04-09T00:00:00",
          "2021-04-16T00:00:00",
          "2021-04-23T00:00:00",
          "2021-04-30T00:00:00",
          "2021-10-18T00:00:00",
          "2021-10-19T00:00:00",
          "2021-10-21T00:00:00",
          "2021-10-28T00:00:00",
          "2021-11-04T00:00:00",
          "2021-11-12T00:00:00",
          "2021-11-19T00:00:00",
          "2022-01-26T00:00:00",
          "2022-01-27T00:00:00",
          "2022-02-03T00:00:00",
          "2022-02-10T00:00:00",
          "2022-03-04T00:00:00",
          "2022-03-10T00:00:00",
          "2022-03-15T00:00:00",
          "2022-03-29T00:00:00",
          "2022-03-31T00:00:00",
          "2022-04-11T00:00:00",
          "2022-04-15T00:00:00",
          "2022-04-22T00:00:00",
          "2022-04-28T00:00:00",
          "2022-05-13T00:00:00",
          "2022-09-23T00:00:00",
          "2022-09-30T00:00:00",
          "2022-10-05T00:00:00",
          "2022-10-21T00:00:00",
          "2022-10-27T00:00:00",
          "2022-10-28T00:00:00",
          "2022-11-04T00:00:00",
          "2022-11-10T00:00:00",
          "2022-11-29T00:00:00",
          "2022-12-01T00:00:00",
          "2022-12-28T00:00:00",
          "2023-01-11T00:00:00",
          "2023-01-26T00:00:00",
          "2023-02-03T00:00:00",
          "2023-02-10T00:00:00",
          "2023-02-16T00:00:00",
          "2023-03-02T00:00:00",
          "2023-03-09T00:00:00",
          "2023-03-16T00:00:00",
          "2023-03-24T00:00:00",
          "2023-04-10T00:00:00",
          "2023-04-13T00:00:00",
          "2023-04-21T00:00:00",
          "2023-04-24T00:00:00",
          "2023-04-27T00:00:00",
          "2023-09-21T00:00:00",
          "2023-09-28T00:00:00",
          "2023-09-29T00:00:00",
          "2023-10-06T00:00:00",
          "2023-10-19T00:00:00",
          "2023-10-31T00:00:00",
          "2023-11-06T00:00:00",
          "2023-11-11T00:00:00",
          "2023-11-17T00:00:00",
          "2023-12-04T00:00:00",
          "2024-01-25T00:00:00",
          "2024-02-01T00:00:00",
          "2024-02-06T00:00:00",
          "2024-02-08T00:00:00",
          "2024-02-15T00:00:00",
          "2024-03-01T00:00:00",
          "2024-03-07T00:00:00",
          "2024-03-15T00:00:00",
          "2024-03-27T00:00:00",
          "2024-04-13T00:00:00",
          "2024-04-23T00:00:00",
          "2024-04-28T00:00:00"
         ],
         "xaxis": "x",
         "y": [
          4220,
          2100,
          3450,
          3850,
          570,
          1494.75,
          2669,
          2850,
          705,
          1600,
          1100,
          1959.26,
          2412.83,
          250,
          3400,
          3675,
          4737,
          4950,
          1200,
          1665,
          1405.5,
          2100,
          4434,
          1880,
          2750,
          900,
          2300,
          1521,
          2000,
          1881,
          1321.8,
          1655,
          2300,
          5800,
          1373,
          1120,
          13900,
          795,
          617.5,
          1899,
          675,
          975,
          972.98,
          200,
          1140,
          1500,
          1500,
          1370.7,
          1000,
          976.73,
          392,
          1600,
          0,
          1276,
          300,
          2500,
          3500,
          4367,
          960,
          1200,
          4600,
          2157,
          1900,
          6133,
          17870,
          5254,
          5000,
          820,
          1485,
          1500,
          1969.37,
          815,
          20,
          30,
          500,
          427.97,
          31,
          1625,
          972.94,
          420.06,
          1701.6,
          400,
          2500,
          5256.26,
          1400,
          911.05,
          2300,
          6529.15,
          4596,
          2092.22,
          2995.88,
          300,
          2374.24,
          3880,
          769.98,
          1200,
          2227,
          6300,
          3150,
          6486.2,
          1500,
          400,
          1770,
          1617,
          3690.85,
          900,
          5044,
          18185,
          7500,
          6869.889999999999,
          1271.84,
          8475.3,
          500,
          10381.51,
          4989.8,
          2269.5,
          7156.38,
          4328,
          6960.88,
          3250,
          6100,
          1000,
          3600,
          4800,
          4220,
          0,
          1330.87,
          2100,
          674.8,
          0,
          4570,
          6313.28,
          18882.37,
          1977.52,
          3850,
          946,
          1870,
          700,
          1558.96,
          3000,
          2101.05,
          2236,
          1432.69,
          4330.16,
          2428.9,
          9325.14,
          8765.28,
          2950,
          2428.52
         ],
         "yaxis": "y"
        }
       ],
       "layout": {
        "legend": {
         "tracegroupgap": 0
        },
        "template": {
         "data": {
          "bar": [
           {
            "error_x": {
             "color": "#2a3f5f"
            },
            "error_y": {
             "color": "#2a3f5f"
            },
            "marker": {
             "line": {
              "color": "#E5ECF6",
              "width": 0.5
             },
             "pattern": {
              "fillmode": "overlay",
              "size": 10,
              "solidity": 0.2
             }
            },
            "type": "bar"
           }
          ],
          "barpolar": [
           {
            "marker": {
             "line": {
              "color": "#E5ECF6",
              "width": 0.5
             },
             "pattern": {
              "fillmode": "overlay",
              "size": 10,
              "solidity": 0.2
             }
            },
            "type": "barpolar"
           }
          ],
          "carpet": [
           {
            "aaxis": {
             "endlinecolor": "#2a3f5f",
             "gridcolor": "white",
             "linecolor": "white",
             "minorgridcolor": "white",
             "startlinecolor": "#2a3f5f"
            },
            "baxis": {
             "endlinecolor": "#2a3f5f",
             "gridcolor": "white",
             "linecolor": "white",
             "minorgridcolor": "white",
             "startlinecolor": "#2a3f5f"
            },
            "type": "carpet"
           }
          ],
          "choropleth": [
           {
            "colorbar": {
             "outlinewidth": 0,
             "ticks": ""
            },
            "type": "choropleth"
           }
          ],
          "contour": [
           {
            "colorbar": {
             "outlinewidth": 0,
             "ticks": ""
            },
            "colorscale": [
             [
              0,
              "#0d0887"
             ],
             [
              0.1111111111111111,
              "#46039f"
             ],
             [
              0.2222222222222222,
              "#7201a8"
             ],
             [
              0.3333333333333333,
              "#9c179e"
             ],
             [
              0.4444444444444444,
              "#bd3786"
             ],
             [
              0.5555555555555556,
              "#d8576b"
             ],
             [
              0.6666666666666666,
              "#ed7953"
             ],
             [
              0.7777777777777778,
              "#fb9f3a"
             ],
             [
              0.8888888888888888,
              "#fdca26"
             ],
             [
              1,
              "#f0f921"
             ]
            ],
            "type": "contour"
           }
          ],
          "contourcarpet": [
           {
            "colorbar": {
             "outlinewidth": 0,
             "ticks": ""
            },
            "type": "contourcarpet"
           }
          ],
          "heatmap": [
           {
            "colorbar": {
             "outlinewidth": 0,
             "ticks": ""
            },
            "colorscale": [
             [
              0,
              "#0d0887"
             ],
             [
              0.1111111111111111,
              "#46039f"
             ],
             [
              0.2222222222222222,
              "#7201a8"
             ],
             [
              0.3333333333333333,
              "#9c179e"
             ],
             [
              0.4444444444444444,
              "#bd3786"
             ],
             [
              0.5555555555555556,
              "#d8576b"
             ],
             [
              0.6666666666666666,
              "#ed7953"
             ],
             [
              0.7777777777777778,
              "#fb9f3a"
             ],
             [
              0.8888888888888888,
              "#fdca26"
             ],
             [
              1,
              "#f0f921"
             ]
            ],
            "type": "heatmap"
           }
          ],
          "heatmapgl": [
           {
            "colorbar": {
             "outlinewidth": 0,
             "ticks": ""
            },
            "colorscale": [
             [
              0,
              "#0d0887"
             ],
             [
              0.1111111111111111,
              "#46039f"
             ],
             [
              0.2222222222222222,
              "#7201a8"
             ],
             [
              0.3333333333333333,
              "#9c179e"
             ],
             [
              0.4444444444444444,
              "#bd3786"
             ],
             [
              0.5555555555555556,
              "#d8576b"
             ],
             [
              0.6666666666666666,
              "#ed7953"
             ],
             [
              0.7777777777777778,
              "#fb9f3a"
             ],
             [
              0.8888888888888888,
              "#fdca26"
             ],
             [
              1,
              "#f0f921"
             ]
            ],
            "type": "heatmapgl"
           }
          ],
          "histogram": [
           {
            "marker": {
             "pattern": {
              "fillmode": "overlay",
              "size": 10,
              "solidity": 0.2
             }
            },
            "type": "histogram"
           }
          ],
          "histogram2d": [
           {
            "colorbar": {
             "outlinewidth": 0,
             "ticks": ""
            },
            "colorscale": [
             [
              0,
              "#0d0887"
             ],
             [
              0.1111111111111111,
              "#46039f"
             ],
             [
              0.2222222222222222,
              "#7201a8"
             ],
             [
              0.3333333333333333,
              "#9c179e"
             ],
             [
              0.4444444444444444,
              "#bd3786"
             ],
             [
              0.5555555555555556,
              "#d8576b"
             ],
             [
              0.6666666666666666,
              "#ed7953"
             ],
             [
              0.7777777777777778,
              "#fb9f3a"
             ],
             [
              0.8888888888888888,
              "#fdca26"
             ],
             [
              1,
              "#f0f921"
             ]
            ],
            "type": "histogram2d"
           }
          ],
          "histogram2dcontour": [
           {
            "colorbar": {
             "outlinewidth": 0,
             "ticks": ""
            },
            "colorscale": [
             [
              0,
              "#0d0887"
             ],
             [
              0.1111111111111111,
              "#46039f"
             ],
             [
              0.2222222222222222,
              "#7201a8"
             ],
             [
              0.3333333333333333,
              "#9c179e"
             ],
             [
              0.4444444444444444,
              "#bd3786"
             ],
             [
              0.5555555555555556,
              "#d8576b"
             ],
             [
              0.6666666666666666,
              "#ed7953"
             ],
             [
              0.7777777777777778,
              "#fb9f3a"
             ],
             [
              0.8888888888888888,
              "#fdca26"
             ],
             [
              1,
              "#f0f921"
             ]
            ],
            "type": "histogram2dcontour"
           }
          ],
          "mesh3d": [
           {
            "colorbar": {
             "outlinewidth": 0,
             "ticks": ""
            },
            "type": "mesh3d"
           }
          ],
          "parcoords": [
           {
            "line": {
             "colorbar": {
              "outlinewidth": 0,
              "ticks": ""
             }
            },
            "type": "parcoords"
           }
          ],
          "pie": [
           {
            "automargin": true,
            "type": "pie"
           }
          ],
          "scatter": [
           {
            "fillpattern": {
             "fillmode": "overlay",
             "size": 10,
             "solidity": 0.2
            },
            "type": "scatter"
           }
          ],
          "scatter3d": [
           {
            "line": {
             "colorbar": {
              "outlinewidth": 0,
              "ticks": ""
             }
            },
            "marker": {
             "colorbar": {
              "outlinewidth": 0,
              "ticks": ""
             }
            },
            "type": "scatter3d"
           }
          ],
          "scattercarpet": [
           {
            "marker": {
             "colorbar": {
              "outlinewidth": 0,
              "ticks": ""
             }
            },
            "type": "scattercarpet"
           }
          ],
          "scattergeo": [
           {
            "marker": {
             "colorbar": {
              "outlinewidth": 0,
              "ticks": ""
             }
            },
            "type": "scattergeo"
           }
          ],
          "scattergl": [
           {
            "marker": {
             "colorbar": {
              "outlinewidth": 0,
              "ticks": ""
             }
            },
            "type": "scattergl"
           }
          ],
          "scattermapbox": [
           {
            "marker": {
             "colorbar": {
              "outlinewidth": 0,
              "ticks": ""
             }
            },
            "type": "scattermapbox"
           }
          ],
          "scatterpolar": [
           {
            "marker": {
             "colorbar": {
              "outlinewidth": 0,
              "ticks": ""
             }
            },
            "type": "scatterpolar"
           }
          ],
          "scatterpolargl": [
           {
            "marker": {
             "colorbar": {
              "outlinewidth": 0,
              "ticks": ""
             }
            },
            "type": "scatterpolargl"
           }
          ],
          "scatterternary": [
           {
            "marker": {
             "colorbar": {
              "outlinewidth": 0,
              "ticks": ""
             }
            },
            "type": "scatterternary"
           }
          ],
          "surface": [
           {
            "colorbar": {
             "outlinewidth": 0,
             "ticks": ""
            },
            "colorscale": [
             [
              0,
              "#0d0887"
             ],
             [
              0.1111111111111111,
              "#46039f"
             ],
             [
              0.2222222222222222,
              "#7201a8"
             ],
             [
              0.3333333333333333,
              "#9c179e"
             ],
             [
              0.4444444444444444,
              "#bd3786"
             ],
             [
              0.5555555555555556,
              "#d8576b"
             ],
             [
              0.6666666666666666,
              "#ed7953"
             ],
             [
              0.7777777777777778,
              "#fb9f3a"
             ],
             [
              0.8888888888888888,
              "#fdca26"
             ],
             [
              1,
              "#f0f921"
             ]
            ],
            "type": "surface"
           }
          ],
          "table": [
           {
            "cells": {
             "fill": {
              "color": "#EBF0F8"
             },
             "line": {
              "color": "white"
             }
            },
            "header": {
             "fill": {
              "color": "#C8D4E3"
             },
             "line": {
              "color": "white"
             }
            },
            "type": "table"
           }
          ]
         },
         "layout": {
          "annotationdefaults": {
           "arrowcolor": "#2a3f5f",
           "arrowhead": 0,
           "arrowwidth": 1
          },
          "autotypenumbers": "strict",
          "coloraxis": {
           "colorbar": {
            "outlinewidth": 0,
            "ticks": ""
           }
          },
          "colorscale": {
           "diverging": [
            [
             0,
             "#8e0152"
            ],
            [
             0.1,
             "#c51b7d"
            ],
            [
             0.2,
             "#de77ae"
            ],
            [
             0.3,
             "#f1b6da"
            ],
            [
             0.4,
             "#fde0ef"
            ],
            [
             0.5,
             "#f7f7f7"
            ],
            [
             0.6,
             "#e6f5d0"
            ],
            [
             0.7,
             "#b8e186"
            ],
            [
             0.8,
             "#7fbc41"
            ],
            [
             0.9,
             "#4d9221"
            ],
            [
             1,
             "#276419"
            ]
           ],
           "sequential": [
            [
             0,
             "#0d0887"
            ],
            [
             0.1111111111111111,
             "#46039f"
            ],
            [
             0.2222222222222222,
             "#7201a8"
            ],
            [
             0.3333333333333333,
             "#9c179e"
            ],
            [
             0.4444444444444444,
             "#bd3786"
            ],
            [
             0.5555555555555556,
             "#d8576b"
            ],
            [
             0.6666666666666666,
             "#ed7953"
            ],
            [
             0.7777777777777778,
             "#fb9f3a"
            ],
            [
             0.8888888888888888,
             "#fdca26"
            ],
            [
             1,
             "#f0f921"
            ]
           ],
           "sequentialminus": [
            [
             0,
             "#0d0887"
            ],
            [
             0.1111111111111111,
             "#46039f"
            ],
            [
             0.2222222222222222,
             "#7201a8"
            ],
            [
             0.3333333333333333,
             "#9c179e"
            ],
            [
             0.4444444444444444,
             "#bd3786"
            ],
            [
             0.5555555555555556,
             "#d8576b"
            ],
            [
             0.6666666666666666,
             "#ed7953"
            ],
            [
             0.7777777777777778,
             "#fb9f3a"
            ],
            [
             0.8888888888888888,
             "#fdca26"
            ],
            [
             1,
             "#f0f921"
            ]
           ]
          },
          "colorway": [
           "#636efa",
           "#EF553B",
           "#00cc96",
           "#ab63fa",
           "#FFA15A",
           "#19d3f3",
           "#FF6692",
           "#B6E880",
           "#FF97FF",
           "#FECB52"
          ],
          "font": {
           "color": "#2a3f5f"
          },
          "geo": {
           "bgcolor": "white",
           "lakecolor": "white",
           "landcolor": "#E5ECF6",
           "showlakes": true,
           "showland": true,
           "subunitcolor": "white"
          },
          "hoverlabel": {
           "align": "left"
          },
          "hovermode": "closest",
          "mapbox": {
           "style": "light"
          },
          "paper_bgcolor": "white",
          "plot_bgcolor": "#E5ECF6",
          "polar": {
           "angularaxis": {
            "gridcolor": "white",
            "linecolor": "white",
            "ticks": ""
           },
           "bgcolor": "#E5ECF6",
           "radialaxis": {
            "gridcolor": "white",
            "linecolor": "white",
            "ticks": ""
           }
          },
          "scene": {
           "xaxis": {
            "backgroundcolor": "#E5ECF6",
            "gridcolor": "white",
            "gridwidth": 2,
            "linecolor": "white",
            "showbackground": true,
            "ticks": "",
            "zerolinecolor": "white"
           },
           "yaxis": {
            "backgroundcolor": "#E5ECF6",
            "gridcolor": "white",
            "gridwidth": 2,
            "linecolor": "white",
            "showbackground": true,
            "ticks": "",
            "zerolinecolor": "white"
           },
           "zaxis": {
            "backgroundcolor": "#E5ECF6",
            "gridcolor": "white",
            "gridwidth": 2,
            "linecolor": "white",
            "showbackground": true,
            "ticks": "",
            "zerolinecolor": "white"
           }
          },
          "shapedefaults": {
           "line": {
            "color": "#2a3f5f"
           }
          },
          "ternary": {
           "aaxis": {
            "gridcolor": "white",
            "linecolor": "white",
            "ticks": ""
           },
           "baxis": {
            "gridcolor": "white",
            "linecolor": "white",
            "ticks": ""
           },
           "bgcolor": "#E5ECF6",
           "caxis": {
            "gridcolor": "white",
            "linecolor": "white",
            "ticks": ""
           }
          },
          "title": {
           "x": 0.05
          },
          "xaxis": {
           "automargin": true,
           "gridcolor": "white",
           "linecolor": "white",
           "ticks": "",
           "title": {
            "standoff": 15
           },
           "zerolinecolor": "white",
           "zerolinewidth": 2
          },
          "yaxis": {
           "automargin": true,
           "gridcolor": "white",
           "linecolor": "white",
           "ticks": "",
           "title": {
            "standoff": 15
           },
           "zerolinecolor": "white",
           "zerolinewidth": 2
          }
         }
        },
        "title": {
         "text": "SU Contingency Total $Amt Allocations over Time (Since 2016) NO OUTLIERS"
        },
        "xaxis": {
         "anchor": "y",
         "domain": [
          0,
          1
         ],
         "title": {
          "text": "Date"
         }
        },
        "yaxis": {
         "anchor": "x",
         "domain": [
          0,
          1
         ],
         "title": {
          "text": "Amount"
         }
        }
       }
      }
     },
     "metadata": {},
     "output_type": "display_data"
    }
   ],
   "source": [
    "full_allocation_amounts_no_outliers = full_allocation_amounts[full_allocation_amounts['Date'] != pd.Timestamp('2019-09-26')]\n",
    "fig_5 = px.line(full_allocation_amounts_no_outliers, x=\"Date\", y=\"Amount\", title='SU Contingency Total $Amt Allocations over Time (Since 2016) NO OUTLIERS')\n",
    "fig_5.show()"
   ]
  },
  {
   "cell_type": "code",
   "execution_count": 20,
   "metadata": {},
   "outputs": [
    {
     "data": {
      "application/vnd.plotly.v1+json": {
       "config": {
        "plotlyServerURL": "https://plot.ly"
       },
       "data": [
        {
         "hovertemplate": "Category=5K+<br>Date=%{x}<br>Amount=%{y}<extra></extra>",
         "legendgroup": "5K+",
         "marker": {
          "color": "#636efa",
          "symbol": "circle"
         },
         "mode": "markers",
         "name": "5K+",
         "orientation": "v",
         "showlegend": true,
         "type": "scatter",
         "x": [
          "2018-03-22T00:00:00",
          "2020-03-30T00:00:00",
          "2024-03-27T00:00:00"
         ],
         "xaxis": "x",
         "y": [
          5800,
          5283,
          9325.14
         ],
         "yaxis": "y"
        },
        {
         "hovertemplate": "Category=10K+<br>Date=%{x}<br>Amount=%{y}<extra></extra>",
         "legendgroup": "10K+",
         "marker": {
          "color": "#EF553B",
          "symbol": "circle"
         },
         "mode": "markers",
         "name": "10K+",
         "orientation": "v",
         "showlegend": true,
         "type": "scatter",
         "x": [
          "2020-04-01T00:00:00",
          "2022-10-28T00:00:00",
          "2023-10-31T00:00:00"
         ],
         "xaxis": "x",
         "y": [
          13880,
          18185,
          18000
         ],
         "yaxis": "y"
        },
        {
         "hovertemplate": "Category=2.5K+<br>Date=%{x}<br>Amount=%{y}<extra></extra>",
         "legendgroup": "2.5K+",
         "marker": {
          "color": "#00cc96",
          "symbol": "circle"
         },
         "mode": "markers",
         "name": "2.5K+",
         "orientation": "v",
         "showlegend": true,
         "type": "scatter",
         "x": [
          "2016-10-06T00:00:00",
          "2016-10-31T00:00:00",
          "2016-11-16T00:00:00",
          "2016-11-18T00:00:00",
          "2017-03-03T00:00:00",
          "2017-03-13T00:00:00",
          "2017-03-16T00:00:00",
          "2017-04-12T00:00:00",
          "2017-10-26T00:00:00",
          "2017-11-13T00:00:00",
          "2018-10-22T00:00:00",
          "2018-10-22T00:00:00",
          "2018-10-22T00:00:00",
          "2020-04-04T00:00:00",
          "2020-04-06T00:00:00",
          "2023-04-10T00:00:00"
         ],
         "xaxis": "x",
         "y": [
          4020,
          3450,
          2669,
          2850,
          3400,
          3675,
          4737,
          4950,
          4434,
          2750,
          3000,
          3000,
          3000,
          5000,
          4000,
          3600
         ],
         "yaxis": "y"
        },
        {
         "hovertemplate": "Category=1.5K+<br>Date=%{x}<br>Amount=%{y}<extra></extra>",
         "legendgroup": "1.5K+",
         "marker": {
          "color": "#ab63fa",
          "symbol": "circle"
         },
         "mode": "markers",
         "name": "1.5K+",
         "orientation": "v",
         "showlegend": true,
         "type": "scatter",
         "x": [
          "2016-10-14T00:00:00",
          "2016-11-03T00:00:00",
          "2016-12-09T00:00:00",
          "2017-01-27T00:00:00",
          "2017-02-10T00:00:00",
          "2017-10-03T00:00:00",
          "2017-10-19T00:00:00",
          "2017-11-02T00:00:00",
          "2017-11-30T00:00:00",
          "2018-02-01T00:00:00",
          "2018-02-08T00:00:00",
          "2018-02-15T00:00:00",
          "2018-03-08T00:00:00",
          "2018-03-15T00:00:00",
          "2018-10-22T00:00:00",
          "2018-11-08T00:00:00",
          "2019-11-21T00:00:00",
          "2020-02-10T00:00:00",
          "2023-01-11T00:00:00",
          "2024-02-06T00:00:00"
         ],
         "xaxis": "x",
         "y": [
          2100,
          2500,
          1600,
          1959.26,
          2412.83,
          1665,
          2100,
          1880,
          2300,
          1521,
          2000,
          1881,
          1655,
          2300,
          2500,
          1899,
          1850,
          2500,
          1869,
          2500
         ],
         "yaxis": "y"
        }
       ],
       "layout": {
        "legend": {
         "title": {
          "text": "Category"
         },
         "tracegroupgap": 0
        },
        "template": {
         "data": {
          "bar": [
           {
            "error_x": {
             "color": "#2a3f5f"
            },
            "error_y": {
             "color": "#2a3f5f"
            },
            "marker": {
             "line": {
              "color": "#E5ECF6",
              "width": 0.5
             },
             "pattern": {
              "fillmode": "overlay",
              "size": 10,
              "solidity": 0.2
             }
            },
            "type": "bar"
           }
          ],
          "barpolar": [
           {
            "marker": {
             "line": {
              "color": "#E5ECF6",
              "width": 0.5
             },
             "pattern": {
              "fillmode": "overlay",
              "size": 10,
              "solidity": 0.2
             }
            },
            "type": "barpolar"
           }
          ],
          "carpet": [
           {
            "aaxis": {
             "endlinecolor": "#2a3f5f",
             "gridcolor": "white",
             "linecolor": "white",
             "minorgridcolor": "white",
             "startlinecolor": "#2a3f5f"
            },
            "baxis": {
             "endlinecolor": "#2a3f5f",
             "gridcolor": "white",
             "linecolor": "white",
             "minorgridcolor": "white",
             "startlinecolor": "#2a3f5f"
            },
            "type": "carpet"
           }
          ],
          "choropleth": [
           {
            "colorbar": {
             "outlinewidth": 0,
             "ticks": ""
            },
            "type": "choropleth"
           }
          ],
          "contour": [
           {
            "colorbar": {
             "outlinewidth": 0,
             "ticks": ""
            },
            "colorscale": [
             [
              0,
              "#0d0887"
             ],
             [
              0.1111111111111111,
              "#46039f"
             ],
             [
              0.2222222222222222,
              "#7201a8"
             ],
             [
              0.3333333333333333,
              "#9c179e"
             ],
             [
              0.4444444444444444,
              "#bd3786"
             ],
             [
              0.5555555555555556,
              "#d8576b"
             ],
             [
              0.6666666666666666,
              "#ed7953"
             ],
             [
              0.7777777777777778,
              "#fb9f3a"
             ],
             [
              0.8888888888888888,
              "#fdca26"
             ],
             [
              1,
              "#f0f921"
             ]
            ],
            "type": "contour"
           }
          ],
          "contourcarpet": [
           {
            "colorbar": {
             "outlinewidth": 0,
             "ticks": ""
            },
            "type": "contourcarpet"
           }
          ],
          "heatmap": [
           {
            "colorbar": {
             "outlinewidth": 0,
             "ticks": ""
            },
            "colorscale": [
             [
              0,
              "#0d0887"
             ],
             [
              0.1111111111111111,
              "#46039f"
             ],
             [
              0.2222222222222222,
              "#7201a8"
             ],
             [
              0.3333333333333333,
              "#9c179e"
             ],
             [
              0.4444444444444444,
              "#bd3786"
             ],
             [
              0.5555555555555556,
              "#d8576b"
             ],
             [
              0.6666666666666666,
              "#ed7953"
             ],
             [
              0.7777777777777778,
              "#fb9f3a"
             ],
             [
              0.8888888888888888,
              "#fdca26"
             ],
             [
              1,
              "#f0f921"
             ]
            ],
            "type": "heatmap"
           }
          ],
          "heatmapgl": [
           {
            "colorbar": {
             "outlinewidth": 0,
             "ticks": ""
            },
            "colorscale": [
             [
              0,
              "#0d0887"
             ],
             [
              0.1111111111111111,
              "#46039f"
             ],
             [
              0.2222222222222222,
              "#7201a8"
             ],
             [
              0.3333333333333333,
              "#9c179e"
             ],
             [
              0.4444444444444444,
              "#bd3786"
             ],
             [
              0.5555555555555556,
              "#d8576b"
             ],
             [
              0.6666666666666666,
              "#ed7953"
             ],
             [
              0.7777777777777778,
              "#fb9f3a"
             ],
             [
              0.8888888888888888,
              "#fdca26"
             ],
             [
              1,
              "#f0f921"
             ]
            ],
            "type": "heatmapgl"
           }
          ],
          "histogram": [
           {
            "marker": {
             "pattern": {
              "fillmode": "overlay",
              "size": 10,
              "solidity": 0.2
             }
            },
            "type": "histogram"
           }
          ],
          "histogram2d": [
           {
            "colorbar": {
             "outlinewidth": 0,
             "ticks": ""
            },
            "colorscale": [
             [
              0,
              "#0d0887"
             ],
             [
              0.1111111111111111,
              "#46039f"
             ],
             [
              0.2222222222222222,
              "#7201a8"
             ],
             [
              0.3333333333333333,
              "#9c179e"
             ],
             [
              0.4444444444444444,
              "#bd3786"
             ],
             [
              0.5555555555555556,
              "#d8576b"
             ],
             [
              0.6666666666666666,
              "#ed7953"
             ],
             [
              0.7777777777777778,
              "#fb9f3a"
             ],
             [
              0.8888888888888888,
              "#fdca26"
             ],
             [
              1,
              "#f0f921"
             ]
            ],
            "type": "histogram2d"
           }
          ],
          "histogram2dcontour": [
           {
            "colorbar": {
             "outlinewidth": 0,
             "ticks": ""
            },
            "colorscale": [
             [
              0,
              "#0d0887"
             ],
             [
              0.1111111111111111,
              "#46039f"
             ],
             [
              0.2222222222222222,
              "#7201a8"
             ],
             [
              0.3333333333333333,
              "#9c179e"
             ],
             [
              0.4444444444444444,
              "#bd3786"
             ],
             [
              0.5555555555555556,
              "#d8576b"
             ],
             [
              0.6666666666666666,
              "#ed7953"
             ],
             [
              0.7777777777777778,
              "#fb9f3a"
             ],
             [
              0.8888888888888888,
              "#fdca26"
             ],
             [
              1,
              "#f0f921"
             ]
            ],
            "type": "histogram2dcontour"
           }
          ],
          "mesh3d": [
           {
            "colorbar": {
             "outlinewidth": 0,
             "ticks": ""
            },
            "type": "mesh3d"
           }
          ],
          "parcoords": [
           {
            "line": {
             "colorbar": {
              "outlinewidth": 0,
              "ticks": ""
             }
            },
            "type": "parcoords"
           }
          ],
          "pie": [
           {
            "automargin": true,
            "type": "pie"
           }
          ],
          "scatter": [
           {
            "fillpattern": {
             "fillmode": "overlay",
             "size": 10,
             "solidity": 0.2
            },
            "type": "scatter"
           }
          ],
          "scatter3d": [
           {
            "line": {
             "colorbar": {
              "outlinewidth": 0,
              "ticks": ""
             }
            },
            "marker": {
             "colorbar": {
              "outlinewidth": 0,
              "ticks": ""
             }
            },
            "type": "scatter3d"
           }
          ],
          "scattercarpet": [
           {
            "marker": {
             "colorbar": {
              "outlinewidth": 0,
              "ticks": ""
             }
            },
            "type": "scattercarpet"
           }
          ],
          "scattergeo": [
           {
            "marker": {
             "colorbar": {
              "outlinewidth": 0,
              "ticks": ""
             }
            },
            "type": "scattergeo"
           }
          ],
          "scattergl": [
           {
            "marker": {
             "colorbar": {
              "outlinewidth": 0,
              "ticks": ""
             }
            },
            "type": "scattergl"
           }
          ],
          "scattermapbox": [
           {
            "marker": {
             "colorbar": {
              "outlinewidth": 0,
              "ticks": ""
             }
            },
            "type": "scattermapbox"
           }
          ],
          "scatterpolar": [
           {
            "marker": {
             "colorbar": {
              "outlinewidth": 0,
              "ticks": ""
             }
            },
            "type": "scatterpolar"
           }
          ],
          "scatterpolargl": [
           {
            "marker": {
             "colorbar": {
              "outlinewidth": 0,
              "ticks": ""
             }
            },
            "type": "scatterpolargl"
           }
          ],
          "scatterternary": [
           {
            "marker": {
             "colorbar": {
              "outlinewidth": 0,
              "ticks": ""
             }
            },
            "type": "scatterternary"
           }
          ],
          "surface": [
           {
            "colorbar": {
             "outlinewidth": 0,
             "ticks": ""
            },
            "colorscale": [
             [
              0,
              "#0d0887"
             ],
             [
              0.1111111111111111,
              "#46039f"
             ],
             [
              0.2222222222222222,
              "#7201a8"
             ],
             [
              0.3333333333333333,
              "#9c179e"
             ],
             [
              0.4444444444444444,
              "#bd3786"
             ],
             [
              0.5555555555555556,
              "#d8576b"
             ],
             [
              0.6666666666666666,
              "#ed7953"
             ],
             [
              0.7777777777777778,
              "#fb9f3a"
             ],
             [
              0.8888888888888888,
              "#fdca26"
             ],
             [
              1,
              "#f0f921"
             ]
            ],
            "type": "surface"
           }
          ],
          "table": [
           {
            "cells": {
             "fill": {
              "color": "#EBF0F8"
             },
             "line": {
              "color": "white"
             }
            },
            "header": {
             "fill": {
              "color": "#C8D4E3"
             },
             "line": {
              "color": "white"
             }
            },
            "type": "table"
           }
          ]
         },
         "layout": {
          "annotationdefaults": {
           "arrowcolor": "#2a3f5f",
           "arrowhead": 0,
           "arrowwidth": 1
          },
          "autotypenumbers": "strict",
          "coloraxis": {
           "colorbar": {
            "outlinewidth": 0,
            "ticks": ""
           }
          },
          "colorscale": {
           "diverging": [
            [
             0,
             "#8e0152"
            ],
            [
             0.1,
             "#c51b7d"
            ],
            [
             0.2,
             "#de77ae"
            ],
            [
             0.3,
             "#f1b6da"
            ],
            [
             0.4,
             "#fde0ef"
            ],
            [
             0.5,
             "#f7f7f7"
            ],
            [
             0.6,
             "#e6f5d0"
            ],
            [
             0.7,
             "#b8e186"
            ],
            [
             0.8,
             "#7fbc41"
            ],
            [
             0.9,
             "#4d9221"
            ],
            [
             1,
             "#276419"
            ]
           ],
           "sequential": [
            [
             0,
             "#0d0887"
            ],
            [
             0.1111111111111111,
             "#46039f"
            ],
            [
             0.2222222222222222,
             "#7201a8"
            ],
            [
             0.3333333333333333,
             "#9c179e"
            ],
            [
             0.4444444444444444,
             "#bd3786"
            ],
            [
             0.5555555555555556,
             "#d8576b"
            ],
            [
             0.6666666666666666,
             "#ed7953"
            ],
            [
             0.7777777777777778,
             "#fb9f3a"
            ],
            [
             0.8888888888888888,
             "#fdca26"
            ],
            [
             1,
             "#f0f921"
            ]
           ],
           "sequentialminus": [
            [
             0,
             "#0d0887"
            ],
            [
             0.1111111111111111,
             "#46039f"
            ],
            [
             0.2222222222222222,
             "#7201a8"
            ],
            [
             0.3333333333333333,
             "#9c179e"
            ],
            [
             0.4444444444444444,
             "#bd3786"
            ],
            [
             0.5555555555555556,
             "#d8576b"
            ],
            [
             0.6666666666666666,
             "#ed7953"
            ],
            [
             0.7777777777777778,
             "#fb9f3a"
            ],
            [
             0.8888888888888888,
             "#fdca26"
            ],
            [
             1,
             "#f0f921"
            ]
           ]
          },
          "colorway": [
           "#636efa",
           "#EF553B",
           "#00cc96",
           "#ab63fa",
           "#FFA15A",
           "#19d3f3",
           "#FF6692",
           "#B6E880",
           "#FF97FF",
           "#FECB52"
          ],
          "font": {
           "color": "#2a3f5f"
          },
          "geo": {
           "bgcolor": "white",
           "lakecolor": "white",
           "landcolor": "#E5ECF6",
           "showlakes": true,
           "showland": true,
           "subunitcolor": "white"
          },
          "hoverlabel": {
           "align": "left"
          },
          "hovermode": "closest",
          "mapbox": {
           "style": "light"
          },
          "paper_bgcolor": "white",
          "plot_bgcolor": "#E5ECF6",
          "polar": {
           "angularaxis": {
            "gridcolor": "white",
            "linecolor": "white",
            "ticks": ""
           },
           "bgcolor": "#E5ECF6",
           "radialaxis": {
            "gridcolor": "white",
            "linecolor": "white",
            "ticks": ""
           }
          },
          "scene": {
           "xaxis": {
            "backgroundcolor": "#E5ECF6",
            "gridcolor": "white",
            "gridwidth": 2,
            "linecolor": "white",
            "showbackground": true,
            "ticks": "",
            "zerolinecolor": "white"
           },
           "yaxis": {
            "backgroundcolor": "#E5ECF6",
            "gridcolor": "white",
            "gridwidth": 2,
            "linecolor": "white",
            "showbackground": true,
            "ticks": "",
            "zerolinecolor": "white"
           },
           "zaxis": {
            "backgroundcolor": "#E5ECF6",
            "gridcolor": "white",
            "gridwidth": 2,
            "linecolor": "white",
            "showbackground": true,
            "ticks": "",
            "zerolinecolor": "white"
           }
          },
          "shapedefaults": {
           "line": {
            "color": "#2a3f5f"
           }
          },
          "ternary": {
           "aaxis": {
            "gridcolor": "white",
            "linecolor": "white",
            "ticks": ""
           },
           "baxis": {
            "gridcolor": "white",
            "linecolor": "white",
            "ticks": ""
           },
           "bgcolor": "#E5ECF6",
           "caxis": {
            "gridcolor": "white",
            "linecolor": "white",
            "ticks": ""
           }
          },
          "title": {
           "x": 0.05
          },
          "xaxis": {
           "automargin": true,
           "gridcolor": "white",
           "linecolor": "white",
           "ticks": "",
           "title": {
            "standoff": 15
           },
           "zerolinecolor": "white",
           "zerolinewidth": 2
          },
          "yaxis": {
           "automargin": true,
           "gridcolor": "white",
           "linecolor": "white",
           "ticks": "",
           "title": {
            "standoff": 15
           },
           "zerolinecolor": "white",
           "zerolinewidth": 2
          }
         }
        },
        "title": {
         "text": "Spikes in Amounts Across Time (Since 2016)"
        },
        "xaxis": {
         "anchor": "y",
         "domain": [
          0,
          1
         ],
         "title": {
          "text": "Date"
         }
        },
        "yaxis": {
         "anchor": "x",
         "domain": [
          0,
          1
         ],
         "title": {
          "text": "Amount"
         }
        }
       }
      }
     },
     "metadata": {},
     "output_type": "display_data"
    }
   ],
   "source": [
    "excluded = Non_Admin_Contin[Non_Admin_Contin['Date'] != pd.Timestamp('2019-09-26')]\n",
    "\n",
    "past_5k = excluded[(excluded['Amount'] > 5000) & (excluded['Amount'] <= 10000)].copy()\n",
    "past_5k['Category'] = '5K+'\n",
    "\n",
    "past_10k = excluded[excluded['Amount'] > 10000].copy()\n",
    "past_10k['Category'] = '10K+'\n",
    "\n",
    "past_2_5k = excluded[(excluded['Amount'] > 2500) & (excluded['Amount'] <= 5000)].copy()\n",
    "past_2_5k['Category'] = '2.5K+'\n",
    "\n",
    "past_1_5k = excluded[(excluded['Amount'] > 1500) & (excluded['Amount'] <= 2500)].copy()\n",
    "past_1_5k['Category'] = '1.5K+'\n",
    "\n",
    "all_data = pd.concat([past_5k, past_10k, past_2_5k, past_1_5k])\n",
    "\n",
    "fig_6 = px.scatter(\n",
    "    all_data,\n",
    "    x=\"Date\",\n",
    "    y=\"Amount\",\n",
    "    color=\"Category\",  \n",
    "    labels={'x': 'Date', 'y': 'Amount'},\n",
    "    title=\"Spikes in Amounts Across Time (Since 2016)\"\n",
    ")\n",
    "\n",
    "fig_6.show()"
   ]
  },
  {
   "cell_type": "markdown",
   "metadata": {},
   "source": [
    "<h2 style=\"height: 6px; background-color: #003262; width: 95%;\"></h2>\n",
    "<h2 style=\"height: 2px; background-color: #FDB515; width: 90%; margin-bottom: 0px;\"></h2>"
   ]
  },
  {
   "cell_type": "markdown",
   "metadata": {},
   "source": [
    "## Section 4: Spike Data"
   ]
  },
  {
   "cell_type": "code",
   "execution_count": 21,
   "metadata": {},
   "outputs": [
    {
     "name": "stdout",
     "output_type": "stream",
     "text": [
      "Amount of spikes past 5k: 6\n",
      "Amount of spikes past 10k: 3\n",
      "Amount of spikes past 2.5k: 22\n",
      "Amount of spikes past 1.5k: 42\n"
     ]
    }
   ],
   "source": [
    "excluded = Non_Admin_Contin[Non_Admin_Contin['Date'] != pd.Timestamp('2019-09-26')]\n",
    "\n",
    "past_5k = excluded[excluded['Amount'] > 5000]\n",
    "past_10k = excluded[excluded['Amount'] > 10000]\n",
    "past_2_5k = excluded[excluded['Amount'] > 2500]\n",
    "past_1_5k = excluded[excluded['Amount'] > 1500]\n",
    "\n",
    "print(f\"Amount of spikes past 5k: {len(past_5k)}\")\n",
    "print(f\"Amount of spikes past 10k: {len(past_10k)}\")\n",
    "print(f\"Amount of spikes past 2.5k: {len(past_2_5k)}\")\n",
    "print(f\"Amount of spikes past 1.5k: {len(past_1_5k)}\")"
   ]
  },
  {
   "cell_type": "code",
   "execution_count": 22,
   "metadata": {},
   "outputs": [
    {
     "name": "stdout",
     "output_type": "stream",
     "text": [
      "Amount of spikes past 5k in FY24: 1\n",
      "Amount of spikes past 10k in FY24: 1\n",
      "Amount of spikes past 2.5k in FY24: 0\n",
      "Amount of spikes past 1.5k in FY24: 1\n"
     ]
    }
   ],
   "source": [
    "print(f\"Amount of spikes past 5k in FY24: {len(Contingency_2324[(Contingency_2324['Amount'] > 5000) & (Contingency_2324['Amount'] <= 10000)])}\")\n",
    "print(f\"Amount of spikes past 10k in FY24: {len(Contingency_2324[Contingency_2324['Amount'] > 10000])}\")\n",
    "print(f\"Amount of spikes past 2.5k in FY24: {len(Contingency_2324[(Contingency_2324['Amount'] > 2500) & (Contingency_2324['Amount'] <= 5000)])}\")\n",
    "print(f\"Amount of spikes past 1.5k in FY24: {len(Contingency_2324[(Contingency_2324['Amount'] > 1500) & (Contingency_2324['Amount'] <= 2500)])}\")"
   ]
  },
  {
   "cell_type": "code",
   "execution_count": 23,
   "metadata": {},
   "outputs": [
    {
     "name": "stdout",
     "output_type": "stream",
     "text": [
      "Total amount accounted for by Spikes in FY24: 29825.14\n",
      "Total percentage amount accounted for by Spikes in FY24: 29.82514\n"
     ]
    }
   ],
   "source": [
    "print(f\"Total amount accounted for by Spikes in FY24: {sum(Contingency_2324[Contingency_2324['Amount'] > 1500]['Amount'])}\")\n",
    "print(f\"Total percentage amount accounted for by Spikes in FY24: {sum(Contingency_2324[Contingency_2324['Amount'] > 1500]['Amount'])/100000 * 100}\")"
   ]
  },
  {
   "cell_type": "markdown",
   "metadata": {},
   "source": [
    "### Additional Info: What happened in September of 2019?"
   ]
  },
  {
   "cell_type": "code",
   "execution_count": 24,
   "metadata": {},
   "outputs": [
    {
     "data": {
      "text/html": [
       "<div>\n",
       "<style scoped>\n",
       "    .dataframe tbody tr th:only-of-type {\n",
       "        vertical-align: middle;\n",
       "    }\n",
       "\n",
       "    .dataframe tbody tr th {\n",
       "        vertical-align: top;\n",
       "    }\n",
       "\n",
       "    .dataframe thead th {\n",
       "        text-align: right;\n",
       "    }\n",
       "</style>\n",
       "<table border=\"1\" class=\"dataframe\">\n",
       "  <thead>\n",
       "    <tr style=\"text-align: right;\">\n",
       "      <th></th>\n",
       "      <th>Account Name</th>\n",
       "      <th>Account Description</th>\n",
       "      <th>Transaction Reference #</th>\n",
       "      <th>Date</th>\n",
       "      <th>Reconciled</th>\n",
       "      <th>Created By</th>\n",
       "      <th>Payee/Source First Name</th>\n",
       "      <th>Payee/Source Last Name</th>\n",
       "      <th>Originator Account Name</th>\n",
       "      <th>From Request - Account Name</th>\n",
       "      <th>...</th>\n",
       "      <th>From Request - Payee ZIP</th>\n",
       "      <th>Memo</th>\n",
       "      <th>Category</th>\n",
       "      <th>Type</th>\n",
       "      <th>Transaction Method</th>\n",
       "      <th>Amount</th>\n",
       "      <th>Ending Balance After</th>\n",
       "      <th>Available Balance After</th>\n",
       "      <th>Admin</th>\n",
       "      <th>Recipient</th>\n",
       "    </tr>\n",
       "  </thead>\n",
       "  <tbody>\n",
       "    <tr>\n",
       "      <th>118</th>\n",
       "      <td>3-40-100220-00000-ASUCFunds-SCF</td>\n",
       "      <td>ASUC/GA Student Fee Funding</td>\n",
       "      <td>1762223</td>\n",
       "      <td>2019-09-26</td>\n",
       "      <td>No</td>\n",
       "      <td>Robert Jittrikawiphol</td>\n",
       "      <td>Transfer from '3-40-100256-00000-ASUC Funds-AS...</td>\n",
       "      <td>NaN</td>\n",
       "      <td>3-40-100256-00000-ASUC Funds-ASUC CI</td>\n",
       "      <td>NaN</td>\n",
       "      <td>...</td>\n",
       "      <td>NaN</td>\n",
       "      <td>tfr to Senate Contingency per FR 19/20-08 Fall...</td>\n",
       "      <td>Transfer between Accounts</td>\n",
       "      <td>NaN</td>\n",
       "      <td>Deposit</td>\n",
       "      <td>30000.0</td>\n",
       "      <td>0.0</td>\n",
       "      <td>29608.0</td>\n",
       "      <td>0</td>\n",
       "      <td>Fall 2019</td>\n",
       "    </tr>\n",
       "    <tr>\n",
       "      <th>119</th>\n",
       "      <td>3-40-100220-00000-ASUCFunds-SCF</td>\n",
       "      <td>ASUC/GA Student Fee Funding</td>\n",
       "      <td>1762224</td>\n",
       "      <td>2019-09-26</td>\n",
       "      <td>No</td>\n",
       "      <td>Robert Jittrikawiphol</td>\n",
       "      <td>Transfer from '3-41-100256-00000-Contingency C...</td>\n",
       "      <td>NaN</td>\n",
       "      <td>r* 3-41-100256-00000-Contingency CASSA Funds</td>\n",
       "      <td>NaN</td>\n",
       "      <td>...</td>\n",
       "      <td>NaN</td>\n",
       "      <td>tfr per FR 19/20-08 Fall 2019</td>\n",
       "      <td>Transfer between Accounts</td>\n",
       "      <td>NaN</td>\n",
       "      <td>Deposit</td>\n",
       "      <td>60000.0</td>\n",
       "      <td>0.0</td>\n",
       "      <td>89608.0</td>\n",
       "      <td>0</td>\n",
       "      <td>Fall 2019</td>\n",
       "    </tr>\n",
       "    <tr>\n",
       "      <th>120</th>\n",
       "      <td>3-40-100220-00000-ASUCFunds-SCF</td>\n",
       "      <td>ASUC/GA Student Fee Funding</td>\n",
       "      <td>1762225</td>\n",
       "      <td>2019-09-26</td>\n",
       "      <td>No</td>\n",
       "      <td>Robert Jittrikawiphol</td>\n",
       "      <td>Transfer from '3-40-100220-00000-ASUCFunds-SCF...</td>\n",
       "      <td>NaN</td>\n",
       "      <td>3-40-100220-00000-ASUCFunds-SCF</td>\n",
       "      <td>NaN</td>\n",
       "      <td>...</td>\n",
       "      <td>NaN</td>\n",
       "      <td>FR 19/20 Fall Week 3-Danceworx</td>\n",
       "      <td>Transfer between Accounts</td>\n",
       "      <td>NaN</td>\n",
       "      <td>Payment</td>\n",
       "      <td>750.0</td>\n",
       "      <td>0.0</td>\n",
       "      <td>88858.0</td>\n",
       "      <td>0</td>\n",
       "      <td>NaN</td>\n",
       "    </tr>\n",
       "    <tr>\n",
       "      <th>121</th>\n",
       "      <td>3-40-100220-00000-ASUCFunds-SCF</td>\n",
       "      <td>ASUC/GA Student Fee Funding</td>\n",
       "      <td>1762226</td>\n",
       "      <td>2019-09-26</td>\n",
       "      <td>No</td>\n",
       "      <td>Robert Jittrikawiphol</td>\n",
       "      <td>Transfer from '3-40-100220-00000-ASUCFunds-SCF...</td>\n",
       "      <td>NaN</td>\n",
       "      <td>3-40-100220-00000-ASUCFunds-SCF</td>\n",
       "      <td>NaN</td>\n",
       "      <td>...</td>\n",
       "      <td>NaN</td>\n",
       "      <td>FR 19/20 Fall Week 3-Danceworx</td>\n",
       "      <td>Transfer between Accounts</td>\n",
       "      <td>NaN</td>\n",
       "      <td>Payment</td>\n",
       "      <td>450.0</td>\n",
       "      <td>0.0</td>\n",
       "      <td>88408.0</td>\n",
       "      <td>0</td>\n",
       "      <td>NaN</td>\n",
       "    </tr>\n",
       "    <tr>\n",
       "      <th>122</th>\n",
       "      <td>3-40-100220-00000-ASUCFunds-SCF</td>\n",
       "      <td>ASUC/GA Student Fee Funding</td>\n",
       "      <td>1762227</td>\n",
       "      <td>2019-09-26</td>\n",
       "      <td>No</td>\n",
       "      <td>Robert Jittrikawiphol</td>\n",
       "      <td>Transfer from '3-40-100220-00000-ASUCFunds-SCF...</td>\n",
       "      <td>NaN</td>\n",
       "      <td>3-40-100220-00000-ASUCFunds-SCF</td>\n",
       "      <td>NaN</td>\n",
       "      <td>...</td>\n",
       "      <td>NaN</td>\n",
       "      <td>FR 19/20 Fall Week 3-ASRB</td>\n",
       "      <td>Transfer between Accounts</td>\n",
       "      <td>NaN</td>\n",
       "      <td>Payment</td>\n",
       "      <td>485.0</td>\n",
       "      <td>0.0</td>\n",
       "      <td>87923.0</td>\n",
       "      <td>0</td>\n",
       "      <td>NaN</td>\n",
       "    </tr>\n",
       "    <tr>\n",
       "      <th>123</th>\n",
       "      <td>3-40-100220-00000-ASUCFunds-SCF</td>\n",
       "      <td>ASUC/GA Student Fee Funding</td>\n",
       "      <td>1762226</td>\n",
       "      <td>2019-09-26</td>\n",
       "      <td>No</td>\n",
       "      <td>Robert Jittrikawiphol</td>\n",
       "      <td>Transfer from '3-40-100220-00000-ASUCFunds-SCF...</td>\n",
       "      <td>NaN</td>\n",
       "      <td>3-40-100220-00000-ASUCFunds-SCF</td>\n",
       "      <td>NaN</td>\n",
       "      <td>...</td>\n",
       "      <td>NaN</td>\n",
       "      <td>CANCELLED Transaction #:1762226</td>\n",
       "      <td>NaN</td>\n",
       "      <td>NaN</td>\n",
       "      <td>Payment</td>\n",
       "      <td>-450.0</td>\n",
       "      <td>0.0</td>\n",
       "      <td>88373.0</td>\n",
       "      <td>0</td>\n",
       "      <td>NaN</td>\n",
       "    </tr>\n",
       "    <tr>\n",
       "      <th>124</th>\n",
       "      <td>3-40-100220-00000-ASUCFunds-SCF</td>\n",
       "      <td>ASUC/GA Student Fee Funding</td>\n",
       "      <td>1762228</td>\n",
       "      <td>2019-09-26</td>\n",
       "      <td>No</td>\n",
       "      <td>Robert Jittrikawiphol</td>\n",
       "      <td>Transfer from '3-40-100220-00000-ASUCFunds-SCF...</td>\n",
       "      <td>NaN</td>\n",
       "      <td>3-40-100220-00000-ASUCFunds-SCF</td>\n",
       "      <td>NaN</td>\n",
       "      <td>...</td>\n",
       "      <td>NaN</td>\n",
       "      <td>FR 19/20 Fall Week 3-DWBB</td>\n",
       "      <td>Transfer between Accounts</td>\n",
       "      <td>NaN</td>\n",
       "      <td>Payment</td>\n",
       "      <td>450.0</td>\n",
       "      <td>0.0</td>\n",
       "      <td>87923.0</td>\n",
       "      <td>0</td>\n",
       "      <td>NaN</td>\n",
       "    </tr>\n",
       "  </tbody>\n",
       "</table>\n",
       "<p>7 rows × 28 columns</p>\n",
       "</div>"
      ],
      "text/plain": [
       "                        Account Name          Account Description  \\\n",
       "118  3-40-100220-00000-ASUCFunds-SCF  ASUC/GA Student Fee Funding   \n",
       "119  3-40-100220-00000-ASUCFunds-SCF  ASUC/GA Student Fee Funding   \n",
       "120  3-40-100220-00000-ASUCFunds-SCF  ASUC/GA Student Fee Funding   \n",
       "121  3-40-100220-00000-ASUCFunds-SCF  ASUC/GA Student Fee Funding   \n",
       "122  3-40-100220-00000-ASUCFunds-SCF  ASUC/GA Student Fee Funding   \n",
       "123  3-40-100220-00000-ASUCFunds-SCF  ASUC/GA Student Fee Funding   \n",
       "124  3-40-100220-00000-ASUCFunds-SCF  ASUC/GA Student Fee Funding   \n",
       "\n",
       "     Transaction Reference #       Date Reconciled             Created By  \\\n",
       "118                  1762223 2019-09-26         No  Robert Jittrikawiphol   \n",
       "119                  1762224 2019-09-26         No  Robert Jittrikawiphol   \n",
       "120                  1762225 2019-09-26         No  Robert Jittrikawiphol   \n",
       "121                  1762226 2019-09-26         No  Robert Jittrikawiphol   \n",
       "122                  1762227 2019-09-26         No  Robert Jittrikawiphol   \n",
       "123                  1762226 2019-09-26         No  Robert Jittrikawiphol   \n",
       "124                  1762228 2019-09-26         No  Robert Jittrikawiphol   \n",
       "\n",
       "                               Payee/Source First Name Payee/Source Last Name  \\\n",
       "118  Transfer from '3-40-100256-00000-ASUC Funds-AS...                    NaN   \n",
       "119  Transfer from '3-41-100256-00000-Contingency C...                    NaN   \n",
       "120  Transfer from '3-40-100220-00000-ASUCFunds-SCF...                    NaN   \n",
       "121  Transfer from '3-40-100220-00000-ASUCFunds-SCF...                    NaN   \n",
       "122  Transfer from '3-40-100220-00000-ASUCFunds-SCF...                    NaN   \n",
       "123  Transfer from '3-40-100220-00000-ASUCFunds-SCF...                    NaN   \n",
       "124  Transfer from '3-40-100220-00000-ASUCFunds-SCF...                    NaN   \n",
       "\n",
       "                          Originator Account Name From Request - Account Name  \\\n",
       "118          3-40-100256-00000-ASUC Funds-ASUC CI                         NaN   \n",
       "119  r* 3-41-100256-00000-Contingency CASSA Funds                         NaN   \n",
       "120               3-40-100220-00000-ASUCFunds-SCF                         NaN   \n",
       "121               3-40-100220-00000-ASUCFunds-SCF                         NaN   \n",
       "122               3-40-100220-00000-ASUCFunds-SCF                         NaN   \n",
       "123               3-40-100220-00000-ASUCFunds-SCF                         NaN   \n",
       "124               3-40-100220-00000-ASUCFunds-SCF                         NaN   \n",
       "\n",
       "     ...  From Request - Payee ZIP  \\\n",
       "118  ...                       NaN   \n",
       "119  ...                       NaN   \n",
       "120  ...                       NaN   \n",
       "121  ...                       NaN   \n",
       "122  ...                       NaN   \n",
       "123  ...                       NaN   \n",
       "124  ...                       NaN   \n",
       "\n",
       "                                                  Memo  \\\n",
       "118  tfr to Senate Contingency per FR 19/20-08 Fall...   \n",
       "119                      tfr per FR 19/20-08 Fall 2019   \n",
       "120                     FR 19/20 Fall Week 3-Danceworx   \n",
       "121                     FR 19/20 Fall Week 3-Danceworx   \n",
       "122                          FR 19/20 Fall Week 3-ASRB   \n",
       "123                    CANCELLED Transaction #:1762226   \n",
       "124                          FR 19/20 Fall Week 3-DWBB   \n",
       "\n",
       "                      Category Type Transaction Method   Amount  \\\n",
       "118  Transfer between Accounts  NaN            Deposit  30000.0   \n",
       "119  Transfer between Accounts  NaN            Deposit  60000.0   \n",
       "120  Transfer between Accounts  NaN            Payment    750.0   \n",
       "121  Transfer between Accounts  NaN            Payment    450.0   \n",
       "122  Transfer between Accounts  NaN            Payment    485.0   \n",
       "123                        NaN  NaN            Payment   -450.0   \n",
       "124  Transfer between Accounts  NaN            Payment    450.0   \n",
       "\n",
       "    Ending Balance After Available Balance After  Admin  Recipient  \n",
       "118                  0.0                 29608.0      0  Fall 2019  \n",
       "119                  0.0                 89608.0      0  Fall 2019  \n",
       "120                  0.0                 88858.0      0        NaN  \n",
       "121                  0.0                 88408.0      0        NaN  \n",
       "122                  0.0                 87923.0      0        NaN  \n",
       "123                  0.0                 88373.0      0        NaN  \n",
       "124                  0.0                 87923.0      0        NaN  \n",
       "\n",
       "[7 rows x 28 columns]"
      ]
     },
     "execution_count": 24,
     "metadata": {},
     "output_type": "execute_result"
    }
   ],
   "source": [
    "Non_Admin_Contin[Non_Admin_Contin['Date'] == pd.Timestamp('2019-09-26')]"
   ]
  }
 ],
 "metadata": {
  "kernelspec": {
   "display_name": "asucdata_env",
   "language": "python",
   "name": "python3"
  },
  "language_info": {
   "codemirror_mode": {
    "name": "ipython",
    "version": 3
   },
   "file_extension": ".py",
   "mimetype": "text/x-python",
   "name": "python",
   "nbconvert_exporter": "python",
   "pygments_lexer": "ipython3",
   "version": "3.11.8"
  }
 },
 "nbformat": 4,
 "nbformat_minor": 2
}
